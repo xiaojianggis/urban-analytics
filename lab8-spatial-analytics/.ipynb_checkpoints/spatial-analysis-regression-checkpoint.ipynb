{
 "cells": [
  {
   "cell_type": "markdown",
   "id": "52d9d795-bcf4-42f0-9449-1a6397993047",
   "metadata": {},
   "source": [
    "### Socio-enviornmental analysis of Vegetation coverage of Philadelphia\n",
    "\n",
    "In this tutorial, we will try to answer an important question, where are tree canopies in Philadelphia? \n",
    "\n",
    "We will use Python to analyze the land cover map of Philadelphia, create a tree canopy cover map at the census tract level,  analyze the distribution of three canopy covers, and examine the relationship between social status and vegetation cover in Philadelphia. \n",
    "\n",
    "Regression analysis allows you to model and predict some process based on its relationship to a specific dependent variable or variables. Oftentimes, however, a standard regression model is insufficient for modeling data with a spatial dependency. This happens when the data is spatially autocorrelated. In these cases, you may want to instead use a spatial regression model.\n",
    "\n",
    "Spatial regression analysis allows you to incorporate spatial dependencies into your model. This tutorial will outline how to use the PySAL Python package to use these spatial regression methods.\n",
    "\n",
    "\n",
    "Read articles:\n",
    "\n",
    "MODELS DEALING WITH SPATIAL DEPENDENCE, https://www.sagepub.com/sites/default/files/upm-binaries/102192_Ch03_09.pdf\n",
    "\n",
    "Spatial Lag and Spatial Error Models, https://www.researchgate.net/profile/Kaushik-Ghosal-2/post/How-to-construct-the-equation-of-a-spatial-error-model/attachment/5e784af3cfe4a7809f8a7909/AS%3A872123321024512%401584941811372/download/spatial-lag-and-spatial-error-models.pdf\n",
    "\n",
    "\n",
    "\n",
    "\n",
    "\n",
    "Ref:\n",
    "https://geographicdata.science/book/notebooks/11_regression.html\n",
    "\n",
    "https://github.com/earthlab/tutorials/blob/master/python/intro-to-spatial-regression.ipynb\n"
   ]
  },
  {
   "cell_type": "code",
   "execution_count": null,
   "id": "1ee61450-cca4-4e38-ae7c-f2346160ec46",
   "metadata": {},
   "outputs": [],
   "source": []
  },
  {
   "cell_type": "markdown",
   "id": "ea226c1d-908c-4d15-a564-4b5777d8adac",
   "metadata": {},
   "source": [
    "### 1. Quick start of the spatial regression model"
   ]
  },
  {
   "cell_type": "markdown",
   "id": "77e66637-1c5a-489d-96e3-4250c8152208",
   "metadata": {},
   "source": [
    " if you don't have the module install just type, `!pip install pysal`"
   ]
  },
  {
   "cell_type": "code",
   "execution_count": 1,
   "id": "a1e6d68e-332f-41ec-a794-47f9db65dd44",
   "metadata": {},
   "outputs": [],
   "source": [
    "# !pip install pysal"
   ]
  },
  {
   "cell_type": "code",
   "execution_count": 3,
   "id": "cea4b1de-b779-4ed7-940f-223f5548df0f",
   "metadata": {},
   "outputs": [],
   "source": [
    "import pysal\n",
    "import numpy as np\n",
    "from pysal.model.spreg import ols, ml_error, ml_lag"
   ]
  },
  {
   "cell_type": "code",
   "execution_count": null,
   "id": "04f36a51-4d44-4403-b52f-b4de6fe5e5cd",
   "metadata": {},
   "outputs": [],
   "source": []
  },
  {
   "cell_type": "markdown",
   "id": "e28bb360-30c6-4fbb-a247-34c9b33e592a",
   "metadata": {},
   "source": [
    "Here we use the built-in data to just quickly check how to conduct the spatial regression analysis."
   ]
  },
  {
   "cell_type": "code",
   "execution_count": 4,
   "id": "2dfe9bd9-557f-4ba4-a537-87486dc457bd",
   "metadata": {},
   "outputs": [],
   "source": [
    "f = pysal.lib.io.open(pysal.lib.examples.get_path(\"columbus.dbf\"),'r')\n",
    "y = np.array(f.by_col['HOVAL'])\n",
    "y.shape = (len(y),1)\n",
    "X= []\n",
    "X.append(f.by_col['INC'])\n",
    "X.append(f.by_col['CRIME'])\n",
    "X = np.array(X).T"
   ]
  },
  {
   "cell_type": "code",
   "execution_count": null,
   "id": "16ecea3f-175e-4202-844c-3b3efc937ed9",
   "metadata": {},
   "outputs": [],
   "source": []
  },
  {
   "cell_type": "markdown",
   "id": "e039fcb4-a83f-46f0-9f04-4da8c88d80dc",
   "metadata": {},
   "source": [
    "Let check what the built-in X and y look like"
   ]
  },
  {
   "cell_type": "code",
   "execution_count": 5,
   "id": "a9889f5b-82a2-4cc9-97cb-f8bcb9fe7299",
   "metadata": {},
   "outputs": [
    {
     "data": {
      "text/plain": [
       "(49, 2)"
      ]
     },
     "execution_count": 5,
     "metadata": {},
     "output_type": "execute_result"
    }
   ],
   "source": [
    "X.shape"
   ]
  },
  {
   "cell_type": "code",
   "execution_count": 6,
   "id": "9776827a-4d95-466a-8fe9-ae3e4f8cc67a",
   "metadata": {},
   "outputs": [
    {
     "data": {
      "text/plain": [
       "(49, 1)"
      ]
     },
     "execution_count": 6,
     "metadata": {},
     "output_type": "execute_result"
    }
   ],
   "source": [
    "y.shape"
   ]
  },
  {
   "cell_type": "code",
   "execution_count": null,
   "id": "e351675e-c6dc-4c75-a2b0-54b193aef181",
   "metadata": {},
   "outputs": [],
   "source": []
  },
  {
   "cell_type": "markdown",
   "id": "32c4e3d9-8ff8-419a-9959-b1d7a2ad7263",
   "metadata": {},
   "source": [
    "We can easily to use the ordinary least regression model to conduct the regression analysis"
   ]
  },
  {
   "cell_type": "code",
   "execution_count": 7,
   "id": "ffab00c3-1a04-4793-98a6-270f719f61fb",
   "metadata": {},
   "outputs": [
    {
     "name": "stdout",
     "output_type": "stream",
     "text": [
      "REGRESSION\n",
      "----------\n",
      "SUMMARY OF OUTPUT: ORDINARY LEAST SQUARES\n",
      "-----------------------------------------\n",
      "Data set            :    Columbus\n",
      "Weights matrix      :        None\n",
      "Dependent Variable  :    home val                Number of Observations:          49\n",
      "Mean dependent var  :     38.4362                Number of Variables   :           3\n",
      "S.D. dependent var  :     18.4661                Degrees of Freedom    :          46\n",
      "R-squared           :      0.3495\n",
      "Adjusted R-squared  :      0.3212\n",
      "Sum squared residual:   10647.015                F-statistic           :     12.3582\n",
      "Sigma-square        :     231.457                Prob(F-statistic)     :   5.064e-05\n",
      "S.E. of regression  :      15.214                Log likelihood        :    -201.368\n",
      "Sigma-square ML     :     217.286                Akaike info criterion :     408.735\n",
      "S.E of regression ML:     14.7406                Schwarz criterion     :     414.411\n",
      "\n",
      "------------------------------------------------------------------------------------\n",
      "            Variable     Coefficient       Std.Error     t-Statistic     Probability\n",
      "------------------------------------------------------------------------------------\n",
      "            CONSTANT      46.4281827      13.1917570       3.5194844       0.0009867\n",
      "              Income       0.6289840       0.5359104       1.1736736       0.2465669\n",
      "               Crime      -0.4848885       0.1826729      -2.6544086       0.0108745\n",
      "------------------------------------------------------------------------------------\n",
      "\n",
      "REGRESSION DIAGNOSTICS\n",
      "MULTICOLLINEARITY CONDITION NUMBER           12.538\n",
      "\n",
      "TEST ON NORMALITY OF ERRORS\n",
      "TEST                             DF        VALUE           PROB\n",
      "Jarque-Bera                       2          39.706           0.0000\n",
      "\n",
      "DIAGNOSTICS FOR HETEROSKEDASTICITY\n",
      "RANDOM COEFFICIENTS\n",
      "TEST                             DF        VALUE           PROB\n",
      "Breusch-Pagan test                2           5.767           0.0559\n",
      "Koenker-Bassett test              2           2.270           0.3214\n",
      "================================ END OF REPORT =====================================\n"
     ]
    }
   ],
   "source": [
    "ls = ols.OLS(y, X, name_y = 'home val', name_x = ['Income', 'Crime'], name_ds = 'Columbus')\n",
    "print(ls.summary)"
   ]
  },
  {
   "cell_type": "code",
   "execution_count": null,
   "id": "ffe315a5-0ad6-4285-83e7-4d893159994c",
   "metadata": {},
   "outputs": [],
   "source": []
  },
  {
   "cell_type": "markdown",
   "id": "51ac7cc3-b7bb-4d0b-97f1-9cfb476def85",
   "metadata": {},
   "source": [
    "#### we can try the spaptial regression with consideration of the spatial autocorrelation of the depedent variable"
   ]
  },
  {
   "cell_type": "markdown",
   "id": "1bb2ac3b-c11b-49f7-94e7-ddbec098b1f4",
   "metadata": {},
   "source": [
    "But we need to build/read the spatial weight matrix of different units"
   ]
  },
  {
   "cell_type": "code",
   "execution_count": 8,
   "id": "86399732-2894-4dea-90cb-c57c03f3d546",
   "metadata": {},
   "outputs": [],
   "source": [
    "w = pysal.lib.io.open(pysal.lib.examples.get_path(\"columbus.gal\")).read()\n"
   ]
  },
  {
   "cell_type": "code",
   "execution_count": null,
   "id": "d5d81ca9-43be-476b-8278-01300e3ba9fb",
   "metadata": {},
   "outputs": [],
   "source": []
  },
  {
   "cell_type": "code",
   "execution_count": 9,
   "id": "f404b205-5184-40f0-8905-a1c712a58dc6",
   "metadata": {},
   "outputs": [
    {
     "name": "stdout",
     "output_type": "stream",
     "text": [
      "Observed I: 0.17131015816921455 \n",
      "Expected I: -0.020833333333333332 \n",
      "   p-value: 0.01893042752120211\n"
     ]
    }
   ],
   "source": [
    "mi = pysal.explore.esda.Moran(ls.u, w, two_tailed=False)\n",
    "print('Observed I:', mi.I, '\\nExpected I:', mi.EI, '\\n   p-value:', mi.p_norm)\n"
   ]
  },
  {
   "cell_type": "markdown",
   "id": "d5593d5e-3f4b-4ed3-be90-5923303d3829",
   "metadata": {},
   "source": [
    "We found there is a significant autocorrelation at the significance level of 0.05. Therefore, we need to use the spatial regression models"
   ]
  },
  {
   "cell_type": "code",
   "execution_count": null,
   "id": "eab4c9ab-58a3-4b85-97cf-33f0097eb223",
   "metadata": {},
   "outputs": [],
   "source": []
  },
  {
   "cell_type": "markdown",
   "id": "528621f0-14e8-4c29-bd3b-b380081bb4e5",
   "metadata": {},
   "source": [
    "We can use the spatial error model"
   ]
  },
  {
   "cell_type": "code",
   "execution_count": 12,
   "id": "d61669ca-ff34-4215-8e53-9b6fb63ffbe9",
   "metadata": {},
   "outputs": [
    {
     "name": "stdout",
     "output_type": "stream",
     "text": [
      "REGRESSION\n",
      "----------\n",
      "SUMMARY OF OUTPUT: MAXIMUM LIKELIHOOD SPATIAL ERROR (METHOD = FULL)\n",
      "-------------------------------------------------------------------\n",
      "Data set            :    columbus\n",
      "Weights matrix      :columbus.gal\n",
      "Dependent Variable  :  home value                Number of Observations:          49\n",
      "Mean dependent var  :     38.4362                Number of Variables   :           3\n",
      "S.D. dependent var  :     18.4661                Degrees of Freedom    :          46\n",
      "Pseudo R-squared    :      0.3495\n",
      "Sigma-square ML     :     197.314                Log likelihood        :    -199.769\n",
      "S.E of regression   :      14.047                Akaike info criterion :     405.537\n",
      "                                                 Schwarz criterion     :     411.213\n",
      "\n",
      "------------------------------------------------------------------------------------\n",
      "            Variable     Coefficient       Std.Error     z-Statistic     Probability\n",
      "------------------------------------------------------------------------------------\n",
      "            CONSTANT      47.8090723      12.3906790       3.8584707       0.0001141\n",
      "              income       0.7213778       0.5029284       1.4343548       0.1514710\n",
      "               crime      -0.5576102       0.1788127      -3.1184036       0.0018183\n",
      "              lambda       0.3578232       0.1705869       2.0976012       0.0359404\n",
      "------------------------------------------------------------------------------------\n",
      "================================ END OF REPORT =====================================\n"
     ]
    }
   ],
   "source": [
    "spat_err = ml_error.ML_Error(y, X, w, \n",
    "                             name_y='home value', name_x=['income','crime'], \n",
    "                             name_w='columbus.gal', name_ds='columbus')\n",
    "print(spat_err.summary)"
   ]
  },
  {
   "cell_type": "code",
   "execution_count": null,
   "id": "d498a6d3-6a93-4402-a2a5-684e413da5f7",
   "metadata": {},
   "outputs": [],
   "source": []
  },
  {
   "cell_type": "markdown",
   "id": "07d37e39-7d17-4ecd-86be-4b1c29df739d",
   "metadata": {},
   "source": [
    "We can use the spatial lag model"
   ]
  },
  {
   "cell_type": "code",
   "execution_count": 11,
   "id": "cffe7289-2f32-4880-a768-ced9fcf0c4e9",
   "metadata": {},
   "outputs": [
    {
     "name": "stdout",
     "output_type": "stream",
     "text": [
      "REGRESSION\n",
      "----------\n",
      "SUMMARY OF OUTPUT: MAXIMUM LIKELIHOOD SPATIAL LAG (METHOD = FULL)\n",
      "-----------------------------------------------------------------\n",
      "Data set            :    columbus\n",
      "Weights matrix      :columbus.gal\n",
      "Dependent Variable  :  home value                Number of Observations:          49\n",
      "Mean dependent var  :     38.4362                Number of Variables   :           4\n",
      "S.D. dependent var  :     18.4661                Degrees of Freedom    :          45\n",
      "Pseudo R-squared    :      0.3668\n",
      "Spatial Pseudo R-squared:  0.3315\n",
      "Sigma-square ML     :     211.532                Log likelihood        :    -200.880\n",
      "S.E of regression   :      14.544                Akaike info criterion :     409.760\n",
      "                                                 Schwarz criterion     :     417.328\n",
      "\n",
      "------------------------------------------------------------------------------------\n",
      "            Variable     Coefficient       Std.Error     z-Statistic     Probability\n",
      "------------------------------------------------------------------------------------\n",
      "            CONSTANT      39.6683230      14.3249301       2.7691809       0.0056197\n",
      "              income       0.5793246       0.5189236       1.1163967       0.2642524\n",
      "               crime      -0.4635396       0.1800053      -2.5751442       0.0100198\n",
      "        W_home value       0.1748474       0.1669349       1.0473987       0.2949157\n",
      "------------------------------------------------------------------------------------\n",
      "================================ END OF REPORT =====================================\n"
     ]
    }
   ],
   "source": [
    "spat_lag = ml_lag.ML_Lag(y, X, w, \n",
    "                             name_y='home value', name_x=['income','crime'], \n",
    "                             name_w='columbus.gal', name_ds='columbus')\n",
    "print(spat_lag.summary)"
   ]
  },
  {
   "cell_type": "code",
   "execution_count": null,
   "id": "f46961b2-b42b-471d-aff5-6a398ab32d45",
   "metadata": {},
   "outputs": [],
   "source": []
  },
  {
   "cell_type": "code",
   "execution_count": null,
   "id": "d58ccaec-4c93-4ed4-b24c-a22ef87e587f",
   "metadata": {},
   "outputs": [],
   "source": []
  },
  {
   "cell_type": "code",
   "execution_count": null,
   "id": "1d3e1769-a17b-46cd-ab6e-6ad1c4b0b9c4",
   "metadata": {},
   "outputs": [],
   "source": []
  },
  {
   "cell_type": "markdown",
   "id": "92db1733-4003-4017-b573-057d137851bd",
   "metadata": {},
   "source": [
    "### 2. Working on our own data"
   ]
  },
  {
   "cell_type": "code",
   "execution_count": 13,
   "id": "9e9777bb-d690-4c2f-a1e2-44be2a9ac385",
   "metadata": {},
   "outputs": [],
   "source": [
    "import geopandas as gpd\n",
    "import pandas as pd\n",
    "from matplotlib import pyplot as plt\n",
    "\n",
    "output_shp_res = 'tree-canopy-cover.shp'\n",
    "\n",
    "df = gpd.read_file(output_shp_res)"
   ]
  },
  {
   "cell_type": "code",
   "execution_count": null,
   "id": "b51b1b4b-1371-4b40-8e3f-caecc8a28253",
   "metadata": {},
   "outputs": [],
   "source": []
  },
  {
   "cell_type": "markdown",
   "id": "f9ef697a-4044-4c91-a550-f7f8b39ec231",
   "metadata": {},
   "source": [
    "Prepare the variable. "
   ]
  },
  {
   "cell_type": "code",
   "execution_count": 15,
   "id": "4a4cde66-615d-4b9c-9b92-9012d939a9fb",
   "metadata": {},
   "outputs": [],
   "source": [
    "\n",
    "vegshp = 'tree-canopy-cover.shp'\n",
    "vegdf = gpd.read_file(vegshp)\n",
    "\n",
    "# calculate the values of different socio-economic variables\n",
    "vegdf['income'] = pd.to_numeric(vegdf['per_capita'])/1000\n",
    "# mrtdf['houseIncome'] = pd.to_numeric(mrtdf['median_hou'])\n",
    "\n",
    "vegdf['perHis'] = pd.to_numeric(vegdf['hispanic_p'])/pd.to_numeric(vegdf['total_popu'])\n",
    "vegdf['nonHispan'] = pd.to_numeric(vegdf['non-hispan'])/pd.to_numeric(vegdf['total_popu'])\n",
    "vegdf['black'] = pd.to_numeric(vegdf['black_popu'])/pd.to_numeric(vegdf['total_popu'])\n",
    "vegdf['asian'] = pd.to_numeric(vegdf['asian_popu'])/pd.to_numeric(vegdf['total_popu'])\n",
    "vegdf['und18'] = (pd.to_numeric(vegdf['male_und18']) + pd.to_numeric(vegdf['female_und']))/pd.to_numeric(vegdf['total_popu'])\n",
    "vegdf['highschol'] = pd.to_numeric(vegdf['less_highs'])/pd.to_numeric(vegdf['total_popu'])\n",
    "vegdf['bachelor'] = pd.to_numeric(vegdf['bachelor'])/pd.to_numeric(vegdf['total_popu'])\n",
    "\n",
    "vegdf['old65'] = (pd.to_numeric(vegdf['male65_66']) + \\\n",
    "                  pd.to_numeric(vegdf['male67_69']) + \\\n",
    "                  pd.to_numeric(vegdf['male70_74']) + \\\n",
    "                  pd.to_numeric(vegdf['male75_79']) + \\\n",
    "                  pd.to_numeric(vegdf['male80_84']) + \\\n",
    "                  pd.to_numeric(vegdf['male85_']) + \\\n",
    "                  pd.to_numeric(vegdf['fema_65_66']) + \\\n",
    "                  pd.to_numeric(vegdf['fema_67_69']) + \\\n",
    "                  pd.to_numeric(vegdf['fema70_74']) + \\\n",
    "                  pd.to_numeric(vegdf['fema75_79']) + \\\n",
    "                  pd.to_numeric(vegdf['fema80_84']) + \\\n",
    "                  pd.to_numeric(vegdf['fema85_'])) \\\n",
    "                  /pd.to_numeric(vegdf['total_popu'])\n"
   ]
  },
  {
   "cell_type": "code",
   "execution_count": null,
   "id": "f824604d-92a7-424f-ac94-1679f1666513",
   "metadata": {},
   "outputs": [],
   "source": []
  },
  {
   "cell_type": "markdown",
   "id": "8d19e3c3-cb26-4714-a82e-7a8cce150b89",
   "metadata": {},
   "source": [
    "Clean the data, some census tracts have income of invalid number"
   ]
  },
  {
   "cell_type": "code",
   "execution_count": 16,
   "id": "edafbb99-545a-4814-9c2c-cb696e6d2b75",
   "metadata": {},
   "outputs": [
    {
     "data": {
      "text/html": [
       "<div>\n",
       "<style scoped>\n",
       "    .dataframe tbody tr th:only-of-type {\n",
       "        vertical-align: middle;\n",
       "    }\n",
       "\n",
       "    .dataframe tbody tr th {\n",
       "        vertical-align: top;\n",
       "    }\n",
       "\n",
       "    .dataframe thead th {\n",
       "        text-align: right;\n",
       "    }\n",
       "</style>\n",
       "<table border=\"1\" class=\"dataframe\">\n",
       "  <thead>\n",
       "    <tr style=\"text-align: right;\">\n",
       "      <th></th>\n",
       "      <th>treecover</th>\n",
       "      <th>income</th>\n",
       "      <th>perHis</th>\n",
       "      <th>nonHispan</th>\n",
       "      <th>black</th>\n",
       "      <th>asian</th>\n",
       "      <th>und18</th>\n",
       "      <th>highschol</th>\n",
       "      <th>old65</th>\n",
       "    </tr>\n",
       "  </thead>\n",
       "  <tbody>\n",
       "    <tr>\n",
       "      <th>treecover</th>\n",
       "      <td>1.000000</td>\n",
       "      <td>0.216593</td>\n",
       "      <td>-0.229432</td>\n",
       "      <td>0.226108</td>\n",
       "      <td>-0.078759</td>\n",
       "      <td>-0.111479</td>\n",
       "      <td>-0.166435</td>\n",
       "      <td>-0.348920</td>\n",
       "      <td>0.443010</td>\n",
       "    </tr>\n",
       "    <tr>\n",
       "      <th>income</th>\n",
       "      <td>0.216593</td>\n",
       "      <td>1.000000</td>\n",
       "      <td>-0.306151</td>\n",
       "      <td>0.665329</td>\n",
       "      <td>-0.494144</td>\n",
       "      <td>0.100490</td>\n",
       "      <td>-0.584707</td>\n",
       "      <td>-0.595648</td>\n",
       "      <td>0.316897</td>\n",
       "    </tr>\n",
       "    <tr>\n",
       "      <th>perHis</th>\n",
       "      <td>-0.229432</td>\n",
       "      <td>-0.306151</td>\n",
       "      <td>1.000000</td>\n",
       "      <td>-0.217932</td>\n",
       "      <td>-0.252085</td>\n",
       "      <td>-0.031125</td>\n",
       "      <td>0.422030</td>\n",
       "      <td>0.610071</td>\n",
       "      <td>-0.350514</td>\n",
       "    </tr>\n",
       "    <tr>\n",
       "      <th>nonHispan</th>\n",
       "      <td>0.226108</td>\n",
       "      <td>0.665329</td>\n",
       "      <td>-0.217932</td>\n",
       "      <td>1.000000</td>\n",
       "      <td>-0.851676</td>\n",
       "      <td>0.174924</td>\n",
       "      <td>-0.510471</td>\n",
       "      <td>-0.503530</td>\n",
       "      <td>0.254343</td>\n",
       "    </tr>\n",
       "    <tr>\n",
       "      <th>black</th>\n",
       "      <td>-0.078759</td>\n",
       "      <td>-0.494144</td>\n",
       "      <td>-0.252085</td>\n",
       "      <td>-0.851676</td>\n",
       "      <td>1.000000</td>\n",
       "      <td>-0.409225</td>\n",
       "      <td>0.349540</td>\n",
       "      <td>0.163000</td>\n",
       "      <td>-0.039428</td>\n",
       "    </tr>\n",
       "    <tr>\n",
       "      <th>asian</th>\n",
       "      <td>-0.111479</td>\n",
       "      <td>0.100490</td>\n",
       "      <td>-0.031125</td>\n",
       "      <td>0.174924</td>\n",
       "      <td>-0.409225</td>\n",
       "      <td>1.000000</td>\n",
       "      <td>-0.282633</td>\n",
       "      <td>0.075223</td>\n",
       "      <td>-0.090803</td>\n",
       "    </tr>\n",
       "    <tr>\n",
       "      <th>und18</th>\n",
       "      <td>-0.166435</td>\n",
       "      <td>-0.584707</td>\n",
       "      <td>0.422030</td>\n",
       "      <td>-0.510471</td>\n",
       "      <td>0.349540</td>\n",
       "      <td>-0.282633</td>\n",
       "      <td>1.000000</td>\n",
       "      <td>0.478561</td>\n",
       "      <td>-0.304627</td>\n",
       "    </tr>\n",
       "    <tr>\n",
       "      <th>highschol</th>\n",
       "      <td>-0.348920</td>\n",
       "      <td>-0.595648</td>\n",
       "      <td>0.610071</td>\n",
       "      <td>-0.503530</td>\n",
       "      <td>0.163000</td>\n",
       "      <td>0.075223</td>\n",
       "      <td>0.478561</td>\n",
       "      <td>1.000000</td>\n",
       "      <td>-0.170341</td>\n",
       "    </tr>\n",
       "    <tr>\n",
       "      <th>old65</th>\n",
       "      <td>0.443010</td>\n",
       "      <td>0.316897</td>\n",
       "      <td>-0.350514</td>\n",
       "      <td>0.254343</td>\n",
       "      <td>-0.039428</td>\n",
       "      <td>-0.090803</td>\n",
       "      <td>-0.304627</td>\n",
       "      <td>-0.170341</td>\n",
       "      <td>1.000000</td>\n",
       "    </tr>\n",
       "  </tbody>\n",
       "</table>\n",
       "</div>"
      ],
      "text/plain": [
       "           treecover    income    perHis  nonHispan     black     asian  \\\n",
       "treecover   1.000000  0.216593 -0.229432   0.226108 -0.078759 -0.111479   \n",
       "income      0.216593  1.000000 -0.306151   0.665329 -0.494144  0.100490   \n",
       "perHis     -0.229432 -0.306151  1.000000  -0.217932 -0.252085 -0.031125   \n",
       "nonHispan   0.226108  0.665329 -0.217932   1.000000 -0.851676  0.174924   \n",
       "black      -0.078759 -0.494144 -0.252085  -0.851676  1.000000 -0.409225   \n",
       "asian      -0.111479  0.100490 -0.031125   0.174924 -0.409225  1.000000   \n",
       "und18      -0.166435 -0.584707  0.422030  -0.510471  0.349540 -0.282633   \n",
       "highschol  -0.348920 -0.595648  0.610071  -0.503530  0.163000  0.075223   \n",
       "old65       0.443010  0.316897 -0.350514   0.254343 -0.039428 -0.090803   \n",
       "\n",
       "              und18  highschol     old65  \n",
       "treecover -0.166435  -0.348920  0.443010  \n",
       "income    -0.584707  -0.595648  0.316897  \n",
       "perHis     0.422030   0.610071 -0.350514  \n",
       "nonHispan -0.510471  -0.503530  0.254343  \n",
       "black      0.349540   0.163000 -0.039428  \n",
       "asian     -0.282633   0.075223 -0.090803  \n",
       "und18      1.000000   0.478561 -0.304627  \n",
       "highschol  0.478561   1.000000 -0.170341  \n",
       "old65     -0.304627  -0.170341  1.000000  "
      ]
     },
     "execution_count": 16,
     "metadata": {},
     "output_type": "execute_result"
    }
   ],
   "source": [
    "vegdf_valid = vegdf[vegdf['income'] > 0]\n",
    "\n",
    "vegdf_valid_an = vegdf_valid[['treecover', 'income', 'perHis', 'nonHispan',\t'black', 'asian', 'und18', 'highschol', 'old65']]\n",
    "\n",
    "vegdf_valid_an.corr()\n"
   ]
  },
  {
   "cell_type": "code",
   "execution_count": null,
   "id": "eb1ba8bc-14f4-44e5-b863-db59503adef7",
   "metadata": {},
   "outputs": [],
   "source": []
  },
  {
   "cell_type": "markdown",
   "id": "d2dc5afe-a934-4cc3-b7c0-8ee062eb6df6",
   "metadata": {},
   "source": [
    "Build the spatial weight index to indicate the spatial connections of nearby analytic units."
   ]
  },
  {
   "cell_type": "code",
   "execution_count": 18,
   "id": "ed05e8d5-472c-4868-9e16-bb5d39306864",
   "metadata": {},
   "outputs": [
    {
     "name": "stderr",
     "output_type": "stream",
     "text": [
      "/var/folders/y2/_4yymt112fq_667jj_0qx9b00000gp/T/ipykernel_2658/1626170047.py:4: SettingWithCopyWarning: \n",
      "A value is trying to be set on a copy of a slice from a DataFrame\n",
      "\n",
      "See the caveats in the documentation: https://pandas.pydata.org/pandas-docs/stable/user_guide/indexing.html#returning-a-view-versus-a-copy\n",
      "  vegdf_valid['treecover'].fillna((vegdf_valid['treecover'].mean()), inplace=True)\n",
      "/Users/xiaojiang/anaconda3/envs/geospatial/lib/python3.9/site-packages/libpysal/weights/_contW_lists.py:23: ShapelyDeprecationWarning: The 'type' attribute is deprecated, and will be removed in the future. You can use the 'geom_type' attribute instead.\n",
      "  if shape.type.lower() == \"polygon\":\n",
      "/Users/xiaojiang/anaconda3/envs/geospatial/lib/python3.9/site-packages/libpysal/weights/_contW_lists.py:26: ShapelyDeprecationWarning: The 'type' attribute is deprecated, and will be removed in the future. You can use the 'geom_type' attribute instead.\n",
      "  elif shape.type.lower() == \"linestring\":\n",
      "/Users/xiaojiang/anaconda3/envs/geospatial/lib/python3.9/site-packages/libpysal/weights/weights.py:172: UserWarning: The weights matrix is not fully connected: \n",
      " There are 2 disconnected components.\n",
      "  warnings.warn(message)\n"
     ]
    }
   ],
   "source": [
    "import libpysal as lps\n",
    "\n",
    "# fill the nan with mean value of the column\n",
    "vegdf_valid['treecover'].fillna((vegdf_valid['treecover'].mean()), inplace=True)\n",
    "\n",
    "# create the queen spatial weight\n",
    "df = vegdf_valid\n",
    "wq =  lps.weights.Queen.from_dataframe(df)\n",
    "wq.transform = 'r'"
   ]
  },
  {
   "cell_type": "code",
   "execution_count": null,
   "id": "90124400-9a87-49f2-a53a-f6909258b75b",
   "metadata": {},
   "outputs": [],
   "source": []
  },
  {
   "cell_type": "code",
   "execution_count": 19,
   "id": "be4650e8-4568-4f2a-8e02-8a3db4342ed2",
   "metadata": {},
   "outputs": [
    {
     "data": {
      "text/plain": [
       "<libpysal.weights.contiguity.Queen at 0x7f9b50ad8340>"
      ]
     },
     "execution_count": 19,
     "metadata": {},
     "output_type": "execute_result"
    }
   ],
   "source": [
    "wq"
   ]
  },
  {
   "cell_type": "code",
   "execution_count": null,
   "id": "67ffeeb4-4385-4ce5-bff3-e126d19802b5",
   "metadata": {},
   "outputs": [],
   "source": []
  },
  {
   "cell_type": "code",
   "execution_count": 20,
   "id": "78b32089-741c-4202-87df-ab8d8ffc6a76",
   "metadata": {},
   "outputs": [],
   "source": [
    "# mi = pysal.explore.esda.Moran(ls.u, wq, two_tailed=False)\n",
    "# print('Observed I:', mi.I, '\\nExpected I:', mi.EI, '\\n   p-value:', mi.p_norm)\n"
   ]
  },
  {
   "cell_type": "code",
   "execution_count": null,
   "id": "5d1d2fb6-c81d-4d9c-8674-35efc8e11fb1",
   "metadata": {},
   "outputs": [],
   "source": []
  },
  {
   "cell_type": "code",
   "execution_count": 21,
   "id": "f9524630-8775-4a0f-af3f-1c152ebc333c",
   "metadata": {},
   "outputs": [
    {
     "data": {
      "text/plain": [
       "0.6627680047742477"
      ]
     },
     "execution_count": 21,
     "metadata": {},
     "output_type": "execute_result"
    }
   ],
   "source": [
    "import esda\n",
    "import numpy as np\n",
    "\n",
    "np.random.seed(12345)\n",
    "y = df['treecover']\n",
    "\n",
    "# calculate the moran's I coefficient\n",
    "mi = esda.moran.Moran(y, wq)\n",
    "mi.I"
   ]
  },
  {
   "cell_type": "code",
   "execution_count": 22,
   "id": "1da6043e-74d4-4c40-a8a7-e8a7f773c27e",
   "metadata": {},
   "outputs": [
    {
     "name": "stdout",
     "output_type": "stream",
     "text": [
      "Observed I: 0.6627680047742477 \n",
      "Expected I: -0.0026666666666666666 \n",
      "   p-value: 9.823566632534007e-103\n"
     ]
    }
   ],
   "source": [
    "print('Observed I:', mi.I, '\\nExpected I:', mi.EI, '\\n   p-value:', mi.p_norm)\n"
   ]
  },
  {
   "cell_type": "code",
   "execution_count": null,
   "id": "d93bfa75-2c9c-4386-8a89-b276c853851e",
   "metadata": {},
   "outputs": [],
   "source": []
  },
  {
   "cell_type": "code",
   "execution_count": 23,
   "id": "f4818ab1-6fb6-49f0-993d-2b4c03bba02c",
   "metadata": {},
   "outputs": [
    {
     "name": "stderr",
     "output_type": "stream",
     "text": [
      "/var/folders/y2/_4yymt112fq_667jj_0qx9b00000gp/T/ipykernel_2658/2386594959.py:2: FutureWarning: \n",
      "\n",
      "`shade` is now deprecated in favor of `fill`; setting `fill=True`.\n",
      "This will become an error in seaborn v0.14.0; please update your code.\n",
      "\n",
      "  sbn.kdeplot(mi.sim, shade=True)\n",
      "/Users/xiaojiang/anaconda3/envs/geospatial/lib/python3.9/site-packages/seaborn/_oldcore.py:1119: FutureWarning: use_inf_as_na option is deprecated and will be removed in a future version. Convert inf values to NaN before operating instead.\n",
      "  with pd.option_context('mode.use_inf_as_na', True):\n"
     ]
    },
    {
     "data": {
      "text/plain": [
       "Text(0.5, 0, \"Moran's I\")"
      ]
     },
     "execution_count": 23,
     "metadata": {},
     "output_type": "execute_result"
    },
    {
     "data": {
      "image/png": "[encoded data removed]",
      "text/plain": [
       "<Figure size 640x480 with 1 Axes>"
      ]
     },
     "metadata": {},
     "output_type": "display_data"
    }
   ],
   "source": [
    "import seaborn as sbn\n",
    "sbn.kdeplot(mi.sim, shade=True)\n",
    "plt.vlines(mi.I, 0, 1, color='r')\n",
    "plt.vlines(mi.EI, 0,1)\n",
    "plt.xlabel(\"Moran's I\")"
   ]
  },
  {
   "cell_type": "code",
   "execution_count": 24,
   "id": "62b24a21-2bbd-4189-8a77-4273b6240aeb",
   "metadata": {},
   "outputs": [],
   "source": [
    "X_ = df[['income', 'asian', 'black', 'highschol']].to_numpy()"
   ]
  },
  {
   "cell_type": "code",
   "execution_count": 25,
   "id": "1f6491f3-e743-4679-872d-4c6f3c567f68",
   "metadata": {},
   "outputs": [],
   "source": [
    "y_ = y.to_numpy().reshape(376, 1)"
   ]
  },
  {
   "cell_type": "code",
   "execution_count": 26,
   "id": "07eeaca5-b60f-4118-bf74-4c55718c3e57",
   "metadata": {},
   "outputs": [
    {
     "data": {
      "text/plain": [
       "((376, 4), (376, 1))"
      ]
     },
     "execution_count": 26,
     "metadata": {},
     "output_type": "execute_result"
    }
   ],
   "source": [
    "X_.shape, y_.shape"
   ]
  },
  {
   "cell_type": "code",
   "execution_count": null,
   "id": "72087d00-6d00-4eee-bcb3-bb6792537a6d",
   "metadata": {},
   "outputs": [],
   "source": []
  },
  {
   "cell_type": "code",
   "execution_count": 27,
   "id": "8ae65197-0bcf-40a9-b6b4-2a00f1ce2d21",
   "metadata": {},
   "outputs": [
    {
     "name": "stdout",
     "output_type": "stream",
     "text": [
      "REGRESSION\n",
      "----------\n",
      "SUMMARY OF OUTPUT: MAXIMUM LIKELIHOOD SPATIAL ERROR (METHOD = FULL)\n",
      "-------------------------------------------------------------------\n",
      "Data set            :  phila_vege\n",
      "Weights matrix      :   phila.gal\n",
      "Dependent Variable  :vegetation cover                Number of Observations:         376\n",
      "Mean dependent var  :     15.0048                Number of Variables   :           5\n",
      "S.D. dependent var  :     11.2075                Degrees of Freedom    :         371\n",
      "Pseudo R-squared    :      0.0309\n",
      "Sigma-square ML     :      51.115                Log likelihood        :   -1299.664\n",
      "S.E of regression   :       7.150                Akaike info criterion :    2609.328\n",
      "                                                 Schwarz criterion     :    2628.976\n",
      "\n",
      "------------------------------------------------------------------------------------\n",
      "            Variable     Coefficient       Std.Error     z-Statistic     Probability\n",
      "------------------------------------------------------------------------------------\n",
      "            CONSTANT      18.4128798       2.9088773       6.3298921       0.0000000\n",
      "              income      -0.0029690       0.0450947      -0.0658395       0.9475056\n",
      "               asian     -14.5655110       6.3756904      -2.2845386       0.0223399\n",
      "               black      -8.6647297       2.8188530      -3.0738494       0.0021132\n",
      "          highschool      -6.1051815      10.1393194      -0.6021293       0.5470881\n",
      "              lambda       0.7539072       0.0397401      18.9709253       0.0000000\n",
      "------------------------------------------------------------------------------------\n",
      "================================ END OF REPORT =====================================\n"
     ]
    },
    {
     "name": "stderr",
     "output_type": "stream",
     "text": [
      "/Users/xiaojiang/anaconda3/envs/geospatial/lib/python3.9/site-packages/pysal/model/spreg/user_output.py:456: UserWarning: w must be API-compatible pysal weights object\n",
      "  warn(\"w must be API-compatible pysal weights object\")\n",
      "/Users/xiaojiang/anaconda3/envs/geospatial/lib/python3.9/site-packages/scipy/optimize/_minimize.py:913: RuntimeWarning: Method 'bounded' does not support relative tolerance in x; defaulting to absolute tolerance.\n",
      "  warn(\"Method 'bounded' does not support relative tolerance in x; \"\n"
     ]
    }
   ],
   "source": [
    "spat_err = ml_error.ML_Error(y_, X_, wq, \n",
    "                             name_y='vegetation cover', name_x=['income','asian', 'black', 'highschool'], \n",
    "                             name_w='phila.gal', name_ds='phila_vege')\n",
    "print(spat_err.summary)"
   ]
  },
  {
   "cell_type": "code",
   "execution_count": null,
   "id": "c328ef66-97a2-4160-981a-4ffcc71254a7",
   "metadata": {},
   "outputs": [],
   "source": []
  },
  {
   "cell_type": "code",
   "execution_count": 28,
   "id": "4db15fe3-268f-460b-b61e-ad09803c6a8f",
   "metadata": {},
   "outputs": [
    {
     "name": "stdout",
     "output_type": "stream",
     "text": [
      "REGRESSION\n",
      "----------\n",
      "SUMMARY OF OUTPUT: MAXIMUM LIKELIHOOD SPATIAL LAG (METHOD = FULL)\n",
      "-----------------------------------------------------------------\n",
      "Data set            :     unknown\n",
      "Weights matrix      :     unknown\n",
      "Dependent Variable  :vegetation cover                Number of Observations:         376\n",
      "Mean dependent var  :     15.0048                Number of Variables   :           6\n",
      "S.D. dependent var  :     11.2075                Degrees of Freedom    :         370\n",
      "Pseudo R-squared    :      0.5914\n",
      "Spatial Pseudo R-squared:  0.1901\n",
      "Sigma-square ML     :      52.345                Log likelihood        :   -1300.041\n",
      "S.E of regression   :       7.235                Akaike info criterion :    2612.081\n",
      "                                                 Schwarz criterion     :    2635.659\n",
      "\n",
      "------------------------------------------------------------------------------------\n",
      "            Variable     Coefficient       Std.Error     z-Statistic     Probability\n",
      "------------------------------------------------------------------------------------\n",
      "            CONSTANT       7.1383545       1.9948304       3.5784267       0.0003457\n",
      "              income       0.0022088       0.0305546       0.0722912       0.9423702\n",
      "               asian     -10.2150606       4.8914225      -2.0883620       0.0367652\n",
      "               black      -1.6031655       1.3772497      -1.1640339       0.2444103\n",
      "          highschool     -18.3826250       7.8023446      -2.3560386       0.0184710\n",
      "  W_vegetation cover       0.7077019       0.0431835      16.3882656       0.0000000\n",
      "------------------------------------------------------------------------------------\n",
      "================================ END OF REPORT =====================================\n"
     ]
    }
   ],
   "source": [
    "spat_lag = ml_lag.ML_Lag(y_, X_, wq, \n",
    "                             name_y='vegetation cover', name_x=['income','asian', 'black', 'highschool'])\n",
    "print(spat_lag.summary)"
   ]
  },
  {
   "cell_type": "code",
   "execution_count": null,
   "id": "03daf5b0-7036-4849-9254-d22d2b526a4d",
   "metadata": {},
   "outputs": [],
   "source": []
  },
  {
   "cell_type": "code",
   "execution_count": null,
   "id": "75705aab-8789-491a-be9a-b072c1006d2b",
   "metadata": {},
   "outputs": [],
   "source": []
  },
  {
   "cell_type": "markdown",
   "id": "f3137be1-0e02-46e1-8291-ebcc823adb30",
   "metadata": {},
   "source": [
    "You homework is going to aggregate the building level proximity to playground data and examine the relationship between playground proximity and different social economic variables. Hint use R tree index to aggregate the building level data to the census tract level and then conduct the analysis. You can download the building proximity to playground data from here ([link](https://utilitiesfiles.s3.amazonaws.com/urban-analytic-class/playgroud_proximity.zip))."
   ]
  },
  {
   "cell_type": "code",
   "execution_count": null,
   "id": "0cd53680-f60d-4b59-a857-53468ee7b386",
   "metadata": {},
   "outputs": [],
   "source": []
  }
 ],
 "metadata": {
  "kernelspec": {
   "display_name": "Python 3 (ipykernel)",
   "language": "python",
   "name": "python3"
  },
  "language_info": {
   "codemirror_mode": {
    "name": "ipython",
    "version": 3
   },
   "file_extension": ".py",
   "mimetype": "text/x-python",
   "name": "python",
   "nbconvert_exporter": "python",
   "pygments_lexer": "ipython3",
   "version": "3.9.18"
  }
 },
 "nbformat": 4,
 "nbformat_minor": 5
}
