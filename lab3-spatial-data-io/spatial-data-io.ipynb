{
 "cells": [
  {
   "cell_type": "markdown",
   "id": "236c500b-4d8e-45d7-8efc-a285fbfd0fbe",
   "metadata": {},
   "source": [
    "### Using Python to read and write shapefile\n",
    "Most of urban data are spatial data. Therefore, it is important to use Python to read, write, and operate shapefile. In this tutorial, we are going to use Python and several geospatial modules for spatial data operations. "
   ]
  },
  {
   "cell_type": "markdown",
   "id": "da4acdc9-38e6-4b04-836d-22f68205a673",
   "metadata": {},
   "source": [
    "### 1. The easiest module is `GeoPandas`\n",
    "GeoPandas is a project to add support for geographic data to pandas objects. GeoPandas provides a easy solution to read, write, and conduct operations shapefiles. "
   ]
  },
  {
   "cell_type": "code",
   "execution_count": 37,
   "id": "c25b9f08-fe47-4869-8a08-4acb94a051b2",
   "metadata": {},
   "outputs": [
    {
     "data": {
      "text/html": [
       "<div>\n",
       "<style scoped>\n",
       "    .dataframe tbody tr th:only-of-type {\n",
       "        vertical-align: middle;\n",
       "    }\n",
       "\n",
       "    .dataframe tbody tr th {\n",
       "        vertical-align: top;\n",
       "    }\n",
       "\n",
       "    .dataframe thead th {\n",
       "        text-align: right;\n",
       "    }\n",
       "</style>\n",
       "<table border=\"1\" class=\"dataframe\">\n",
       "  <thead>\n",
       "    <tr style=\"text-align: right;\">\n",
       "      <th></th>\n",
       "      <th>STATEFP</th>\n",
       "      <th>COUNTYFP</th>\n",
       "      <th>TRACTCE</th>\n",
       "      <th>GEOID</th>\n",
       "      <th>NAME_x</th>\n",
       "      <th>NAMELSAD</th>\n",
       "      <th>MTFCC</th>\n",
       "      <th>FUNCSTAT</th>\n",
       "      <th>ALAND</th>\n",
       "      <th>AWATER</th>\n",
       "      <th>...</th>\n",
       "      <th>fema_65_66</th>\n",
       "      <th>fema_67_69</th>\n",
       "      <th>fema70_74</th>\n",
       "      <th>fema75_79</th>\n",
       "      <th>fema80_84</th>\n",
       "      <th>fema85_</th>\n",
       "      <th>state</th>\n",
       "      <th>county</th>\n",
       "      <th>tract</th>\n",
       "      <th>geometry</th>\n",
       "    </tr>\n",
       "  </thead>\n",
       "  <tbody>\n",
       "    <tr>\n",
       "      <th>0</th>\n",
       "      <td>42</td>\n",
       "      <td>101</td>\n",
       "      <td>014500</td>\n",
       "      <td>42101014500</td>\n",
       "      <td>145</td>\n",
       "      <td>Census Tract 145</td>\n",
       "      <td>G5020</td>\n",
       "      <td>S</td>\n",
       "      <td>321465</td>\n",
       "      <td>0</td>\n",
       "      <td>...</td>\n",
       "      <td>25</td>\n",
       "      <td>46</td>\n",
       "      <td>33</td>\n",
       "      <td>7</td>\n",
       "      <td>17</td>\n",
       "      <td>28</td>\n",
       "      <td>42</td>\n",
       "      <td>101</td>\n",
       "      <td>014500</td>\n",
       "      <td>POLYGON ((-75.15162 39.97496, -75.15131 39.976...</td>\n",
       "    </tr>\n",
       "    <tr>\n",
       "      <th>1</th>\n",
       "      <td>42</td>\n",
       "      <td>101</td>\n",
       "      <td>031200</td>\n",
       "      <td>42101031200</td>\n",
       "      <td>312</td>\n",
       "      <td>Census Tract 312</td>\n",
       "      <td>G5020</td>\n",
       "      <td>S</td>\n",
       "      <td>429735</td>\n",
       "      <td>0</td>\n",
       "      <td>...</td>\n",
       "      <td>42</td>\n",
       "      <td>63</td>\n",
       "      <td>202</td>\n",
       "      <td>48</td>\n",
       "      <td>0</td>\n",
       "      <td>11</td>\n",
       "      <td>42</td>\n",
       "      <td>101</td>\n",
       "      <td>031200</td>\n",
       "      <td>POLYGON ((-75.08417 40.03231, -75.08402 40.032...</td>\n",
       "    </tr>\n",
       "    <tr>\n",
       "      <th>2</th>\n",
       "      <td>42</td>\n",
       "      <td>101</td>\n",
       "      <td>021800</td>\n",
       "      <td>42101021800</td>\n",
       "      <td>218</td>\n",
       "      <td>Census Tract 218</td>\n",
       "      <td>G5020</td>\n",
       "      <td>S</td>\n",
       "      <td>1006008</td>\n",
       "      <td>0</td>\n",
       "      <td>...</td>\n",
       "      <td>0</td>\n",
       "      <td>84</td>\n",
       "      <td>55</td>\n",
       "      <td>98</td>\n",
       "      <td>27</td>\n",
       "      <td>17</td>\n",
       "      <td>42</td>\n",
       "      <td>101</td>\n",
       "      <td>021800</td>\n",
       "      <td>POLYGON ((-75.23807 40.05988, -75.23622 40.061...</td>\n",
       "    </tr>\n",
       "    <tr>\n",
       "      <th>3</th>\n",
       "      <td>42</td>\n",
       "      <td>101</td>\n",
       "      <td>009100</td>\n",
       "      <td>42101009100</td>\n",
       "      <td>91</td>\n",
       "      <td>Census Tract 91</td>\n",
       "      <td>G5020</td>\n",
       "      <td>S</td>\n",
       "      <td>425574</td>\n",
       "      <td>0</td>\n",
       "      <td>...</td>\n",
       "      <td>62</td>\n",
       "      <td>33</td>\n",
       "      <td>131</td>\n",
       "      <td>42</td>\n",
       "      <td>42</td>\n",
       "      <td>53</td>\n",
       "      <td>42</td>\n",
       "      <td>101</td>\n",
       "      <td>009100</td>\n",
       "      <td>POLYGON ((-75.20224 39.96164, -75.20142 39.961...</td>\n",
       "    </tr>\n",
       "    <tr>\n",
       "      <th>4</th>\n",
       "      <td>42</td>\n",
       "      <td>101</td>\n",
       "      <td>033600</td>\n",
       "      <td>42101033600</td>\n",
       "      <td>336</td>\n",
       "      <td>Census Tract 336</td>\n",
       "      <td>G5020</td>\n",
       "      <td>S</td>\n",
       "      <td>1153477</td>\n",
       "      <td>0</td>\n",
       "      <td>...</td>\n",
       "      <td>74</td>\n",
       "      <td>86</td>\n",
       "      <td>80</td>\n",
       "      <td>28</td>\n",
       "      <td>72</td>\n",
       "      <td>48</td>\n",
       "      <td>42</td>\n",
       "      <td>101</td>\n",
       "      <td>033600</td>\n",
       "      <td>POLYGON ((-75.06807 40.06082, -75.06692 40.062...</td>\n",
       "    </tr>\n",
       "  </tbody>\n",
       "</table>\n",
       "<p>5 rows × 44 columns</p>\n",
       "</div>"
      ],
      "text/plain": [
       "  STATEFP COUNTYFP TRACTCE        GEOID NAME_x          NAMELSAD  MTFCC  \\\n",
       "0      42      101  014500  42101014500    145  Census Tract 145  G5020   \n",
       "1      42      101  031200  42101031200    312  Census Tract 312  G5020   \n",
       "2      42      101  021800  42101021800    218  Census Tract 218  G5020   \n",
       "3      42      101  009100  42101009100     91   Census Tract 91  G5020   \n",
       "4      42      101  033600  42101033600    336  Census Tract 336  G5020   \n",
       "\n",
       "  FUNCSTAT    ALAND  AWATER  ... fema_65_66 fema_67_69 fema70_74 fema75_79  \\\n",
       "0        S   321465       0  ...         25         46        33         7   \n",
       "1        S   429735       0  ...         42         63       202        48   \n",
       "2        S  1006008       0  ...          0         84        55        98   \n",
       "3        S   425574       0  ...         62         33       131        42   \n",
       "4        S  1153477       0  ...         74         86        80        28   \n",
       "\n",
       "  fema80_84 fema85_ state county   tract  \\\n",
       "0        17      28    42    101  014500   \n",
       "1         0      11    42    101  031200   \n",
       "2        27      17    42    101  021800   \n",
       "3        42      53    42    101  009100   \n",
       "4        72      48    42    101  033600   \n",
       "\n",
       "                                            geometry  \n",
       "0  POLYGON ((-75.15162 39.97496, -75.15131 39.976...  \n",
       "1  POLYGON ((-75.08417 40.03231, -75.08402 40.032...  \n",
       "2  POLYGON ((-75.23807 40.05988, -75.23622 40.061...  \n",
       "3  POLYGON ((-75.20224 39.96164, -75.20142 39.961...  \n",
       "4  POLYGON ((-75.06807 40.06082, -75.06692 40.062...  \n",
       "\n",
       "[5 rows x 44 columns]"
      ]
     },
     "execution_count": 37,
     "metadata": {},
     "output_type": "execute_result"
    }
   ],
   "source": [
    "import geopandas as gpd\n",
    "\n",
    "censusMap = gpd.read_file(\"census-tract-data/census-tract-data.shp\")\n",
    "censusMap.head()"
   ]
  },
  {
   "cell_type": "code",
   "execution_count": 7,
   "id": "90ad9ddc-271f-4be7-b127-15fbe27dace6",
   "metadata": {},
   "outputs": [
    {
     "data": {
      "text/plain": [
       "Index(['STATEFP', 'COUNTYFP', 'TRACTCE', 'GEOID', 'NAME_x', 'NAMELSAD',\n",
       "       'MTFCC', 'FUNCSTAT', 'ALAND', 'AWATER', 'INTPTLAT', 'INTPTLON',\n",
       "       'NAME_y', 'GEO_ID', 'white_popu', 'non-hispan', 'black_popu',\n",
       "       'asian_popu', 'hispanic_p', 'total_popu', 'median_hou', 'per_capita',\n",
       "       'built_age', 'less_highs', 'bachelor', 'totaleduca', 'male_und18',\n",
       "       'female_und', 'male65_66', 'male67_69', 'male70_74', 'male75_79',\n",
       "       'male80_84', 'male85_', 'fema_65_66', 'fema_67_69', 'fema70_74',\n",
       "       'fema75_79', 'fema80_84', 'fema85_', 'state', 'county', 'tract',\n",
       "       'geometry'],\n",
       "      dtype='object')"
      ]
     },
     "execution_count": 7,
     "metadata": {},
     "output_type": "execute_result"
    }
   ],
   "source": [
    "censusMap.columns"
   ]
  },
  {
   "cell_type": "code",
   "execution_count": null,
   "id": "719f08fd-9b5b-4fa4-9b65-ec6b4cea99f5",
   "metadata": {},
   "outputs": [],
   "source": []
  },
  {
   "cell_type": "markdown",
   "id": "3ed5e6f6-b754-4194-971b-ecfd71912e62",
   "metadata": {},
   "source": [
    "We are going to calculate the proportion of differet racial/ethnic groups in Philadelphia"
   ]
  },
  {
   "cell_type": "code",
   "execution_count": 9,
   "id": "ca865a67-627d-48f1-84eb-7fd464f8090d",
   "metadata": {},
   "outputs": [],
   "source": [
    "censusMap['propWhite'] = censusMap['white_popu'].astype(float)/censusMap['total_popu'].astype(float)"
   ]
  },
  {
   "cell_type": "code",
   "execution_count": null,
   "id": "b187f8d4-a3ac-4655-8fce-05d7b30b7a1c",
   "metadata": {},
   "outputs": [],
   "source": []
  },
  {
   "cell_type": "markdown",
   "id": "755ee9b1-c9eb-4f46-9d18-9d4934b8e34c",
   "metadata": {},
   "source": [
    "#### Write to a shapefile"
   ]
  },
  {
   "cell_type": "code",
   "execution_count": 15,
   "id": "ed82e480-47ef-462f-a8c2-355530be58c8",
   "metadata": {},
   "outputs": [
    {
     "data": {
      "text/plain": [
       "<Axes: >"
      ]
     },
     "execution_count": 15,
     "metadata": {},
     "output_type": "execute_result"
    },
    {
     "data": {
      "image/png": "[encoded data removed]",
      "text/plain": [
       "<Figure size 640x480 with 1 Axes>"
      ]
     },
     "metadata": {},
     "output_type": "display_data"
    }
   ],
   "source": [
    "censusMap.to_file('census-tract-data/prop_popu.shp')\n",
    "\n",
    "censusMap.plot('propWhite', legend=True)"
   ]
  },
  {
   "cell_type": "code",
   "execution_count": null,
   "id": "6f20a8e5-b78c-4ef4-84b7-c3cd0a15ddf6",
   "metadata": {},
   "outputs": [],
   "source": []
  },
  {
   "cell_type": "markdown",
   "id": "51ae3545-d085-4ace-929c-51306ace5f1a",
   "metadata": {},
   "source": [
    "### 2. The medium level in terms of flexibility and easy-to-use `Fiona`\n",
    "While the geopandas make reading and writing pretty easy in Python. However, in many (a lot) of cases, you may find geopandas cannot provide the flexibility for some operations. The `geopandas` is developed based on `fiona` together with several other modules. In this session, we will know how to use `fiona` to read, write, and operation shapefile. "
   ]
  },
  {
   "cell_type": "code",
   "execution_count": 5,
   "id": "e1d9ddae-8a74-4b3b-be1c-d9c4c8baed78",
   "metadata": {},
   "outputs": [],
   "source": [
    "# get the meta data of shapefile, such as spatial reference, field names, etc\n",
    "import fiona\n",
    "from fiona.crs import to_string\n",
    "from shapely.geometry import shape\n",
    "from fiona.crs import from_epsg\n",
    "\n",
    "neighborhood_shp = 'census-tract-data/census-tract-data.shp'\n",
    "\n",
    "nb_lyr = fiona.open(neighborhood_shp, 'r')"
   ]
  },
  {
   "cell_type": "code",
   "execution_count": null,
   "id": "aa866835-ab30-46e0-861a-f8ea095d1c4a",
   "metadata": {},
   "outputs": [],
   "source": []
  },
  {
   "cell_type": "code",
   "execution_count": 10,
   "id": "62c97425-9de8-4bcc-8e93-b6c4ba77b8ed",
   "metadata": {},
   "outputs": [],
   "source": [
    "import geopandas as gpd\n",
    "df = gpd.read_file('census-tract-data/census-tract-data.shp')\n",
    "df_proj = df.to_crs(epsg=2272)\n",
    "df_proj.to_file('census-tract-data/census-tract-data-reproj.shp', driver='ESRI Shapefile')\n"
   ]
  },
  {
   "cell_type": "code",
   "execution_count": null,
   "id": "9eaa5347-b3d6-4ecb-bae7-509230c1d1c8",
   "metadata": {},
   "outputs": [],
   "source": []
  },
  {
   "cell_type": "markdown",
   "id": "d2e2555f-1730-4712-992c-8c4d103839e5",
   "metadata": {},
   "source": [
    "#### Access the metadata of the shapefile\n",
    "We can easily access the spatial reference, table structure of the shapefile. "
   ]
  },
  {
   "cell_type": "code",
   "execution_count": null,
   "id": "bbbad52f-f0eb-4bf8-a343-3f216b0ebe37",
   "metadata": {},
   "outputs": [],
   "source": [
    "meta = nb_lyr.meta # more details about the metadata of the shapefile\n",
    "meta"
   ]
  },
  {
   "cell_type": "code",
   "execution_count": null,
   "id": "83f32219-3d5e-40bd-9c3b-7ac509ce11a2",
   "metadata": {},
   "outputs": [],
   "source": []
  },
  {
   "cell_type": "markdown",
   "id": "77c985e4-0719-4477-9b3f-d5f5c3cf8b8a",
   "metadata": {},
   "source": [
    "We can be more specific to get the `crs`: coordinate reference system, and `schema`. "
   ]
  },
  {
   "cell_type": "code",
   "execution_count": null,
   "id": "9654df3b-6bf7-4740-b20d-97cc1c616c89",
   "metadata": {},
   "outputs": [],
   "source": [
    "driver = nb_lyr.driver # the driver of the shapefile\n",
    "schema = nb_lyr.schema  #schema of shapefile\n",
    "crs = nb_lyr.crs   # coordinate reference system of the shapefile\n",
    "crs, schema"
   ]
  },
  {
   "cell_type": "code",
   "execution_count": null,
   "id": "031636e0-4ad4-4c30-a802-993861710456",
   "metadata": {},
   "outputs": [],
   "source": []
  },
  {
   "cell_type": "markdown",
   "id": "ec737097-cc75-469e-a214-4508dc5c4390",
   "metadata": {},
   "source": [
    "#### Loop features in the layer\n",
    "There are many features (points, polygons) in shapefile. We can use `fiona` to loop all fetures and access the geometry and attributes of each feature. "
   ]
  },
  {
   "cell_type": "code",
   "execution_count": 8,
   "id": "5afe0b83-0330-4fe9-983f-aad9643e5b69",
   "metadata": {},
   "outputs": [],
   "source": [
    "for feat in nb_lyr:\n",
    "    # attribute of the neighborhood features\n",
    "    attr = feat['properties']\n",
    "    name = attr['TRACTCE']  #you can find other attribute based on the metadata of the shapefile\n",
    "    print ('The neighborhod is:', name)\n",
    "    \n",
    "    # get the geometry of the polygon feature\n",
    "    geom = feat['geometry']\n",
    "    # print ('geom is:', geom)\n",
    "    "
   ]
  },
  {
   "cell_type": "code",
   "execution_count": null,
   "id": "1d200dad-97f3-4e27-bfb3-1caf513cd825",
   "metadata": {},
   "outputs": [],
   "source": []
  },
  {
   "cell_type": "markdown",
   "id": "f537615e-e4f8-4cc4-b7a7-2eade03da915",
   "metadata": {},
   "source": [
    "### 3. Write shapefile using `fiona`\n",
    "In order to write shapefile, we need to first prepare the metadata. We can prepare the metata from scatch or modify based on existing shapefile. "
   ]
  },
  {
   "cell_type": "markdown",
   "id": "884464aa-8799-4722-b90f-bcba0f1312d2",
   "metadata": {},
   "source": [
    "Let prepare the metadata from scratch. "
   ]
  },
  {
   "cell_type": "code",
   "execution_count": 13,
   "id": "d677dbfb-aec6-4d6a-b24c-d3b42b6ddf12",
   "metadata": {},
   "outputs": [],
   "source": [
    "schema = { \n",
    "  'geometry': 'Point', \n",
    "  'properties': { 'id': 'int', 'name': 'str:10' } \n",
    "}\n",
    "\n",
    "crs = {'init': 'epsg:4326'} #from_epsg(4326)\n"
   ]
  },
  {
   "cell_type": "markdown",
   "id": "e1e10a18-fbc2-4565-89d8-5246b9fd4589",
   "metadata": {},
   "source": [
    "Then we can write a shapefile"
   ]
  },
  {
   "cell_type": "code",
   "execution_count": 14,
   "id": "7c7a1bbb-5b62-44a8-9bc7-9752a9e7d6e5",
   "metadata": {},
   "outputs": [],
   "source": [
    "from shapely.geometry import LineString, Polygon, Point\n",
    "from shapely.geometry import shape, mapping\n",
    "import random\n",
    "import fiona\n",
    "\n",
    "\n",
    "outfile = 'out.shp'\n",
    "min_x, max_x = -75.380, -74.943\n",
    "min_y, max_y = 39.912, 40.124\n",
    "\n",
    "# do map-matching for all traj and save them into one shapefile\n",
    "with fiona.open(outfile, 'w', crs = crs, driver='ESRI Shapefile', schema = schema) as out:\n",
    "    for i in range(100):\n",
    "        ## we create 100 random point, within the boundary of Philadelphia\n",
    "        lon, lat = (random.uniform(min_x, max_x), random.uniform(min_y, max_y))\n",
    "        \n",
    "        ## prepare the feature, this should have the same structure as the schema you just defined.\n",
    "        feature = {'geometry': mapping(Point(lon, lat)), \n",
    "                    'properties': {\n",
    "                                     'id': i,\n",
    "                                     'name': 'random point'\n",
    "                                  }\n",
    "                  }\n",
    "        \n",
    "        out.write(feature)\n",
    "        "
   ]
  },
  {
   "cell_type": "code",
   "execution_count": null,
   "id": "9c0f6310-746f-43cf-a5b7-a97f6fbb098c",
   "metadata": {},
   "outputs": [],
   "source": []
  },
  {
   "cell_type": "markdown",
   "id": "06dd639d-b7fa-4850-a7ed-e538960a34df",
   "metadata": {},
   "source": [
    "#### Using the schema of existing shapefile\n",
    "In most cases, we can use the schema of existing shapefile or we can modify it. Let create a new shapefile of philadelphia census data. We can add a new column. "
   ]
  },
  {
   "cell_type": "code",
   "execution_count": 15,
   "id": "9d9d49c2-10da-4f3a-a783-25a1a9d132dd",
   "metadata": {},
   "outputs": [
    {
     "data": {
      "text/plain": [
       "{'properties': OrderedDict([('STATEFP', 'str:80'),\n",
       "              ('COUNTYFP', 'str:80'),\n",
       "              ('TRACTCE', 'str:80'),\n",
       "              ('GEOID', 'str:80'),\n",
       "              ('NAME_x', 'str:80'),\n",
       "              ('NAMELSAD', 'str:80'),\n",
       "              ('MTFCC', 'str:80'),\n",
       "              ('FUNCSTAT', 'str:80'),\n",
       "              ('ALAND', 'int:18'),\n",
       "              ('AWATER', 'int:18'),\n",
       "              ('INTPTLAT', 'str:80'),\n",
       "              ('INTPTLON', 'str:80'),\n",
       "              ('NAME_y', 'str:80'),\n",
       "              ('GEO_ID', 'str:80'),\n",
       "              ('white_popu', 'str:80'),\n",
       "              ('non-hispan', 'str:80'),\n",
       "              ('black_popu', 'str:80'),\n",
       "              ('asian_popu', 'str:80'),\n",
       "              ('hispanic_p', 'str:80'),\n",
       "              ('total_popu', 'str:80'),\n",
       "              ('median_hou', 'str:80'),\n",
       "              ('per_capita', 'str:80'),\n",
       "              ('built_age', 'str:80'),\n",
       "              ('less_highs', 'str:80'),\n",
       "              ('bachelor', 'str:80'),\n",
       "              ('totaleduca', 'str:80'),\n",
       "              ('male_und18', 'str:80'),\n",
       "              ('female_und', 'str:80'),\n",
       "              ('male65_66', 'str:80'),\n",
       "              ('male67_69', 'str:80'),\n",
       "              ('male70_74', 'str:80'),\n",
       "              ('male75_79', 'str:80'),\n",
       "              ('male80_84', 'str:80'),\n",
       "              ('male85_', 'str:80'),\n",
       "              ('fema_65_66', 'str:80'),\n",
       "              ('fema_67_69', 'str:80'),\n",
       "              ('fema70_74', 'str:80'),\n",
       "              ('fema75_79', 'str:80'),\n",
       "              ('fema80_84', 'str:80'),\n",
       "              ('fema85_', 'str:80'),\n",
       "              ('state', 'str:80'),\n",
       "              ('county', 'str:80'),\n",
       "              ('tract', 'str:80')]),\n",
       " 'geometry': 'Polygon'}"
      ]
     },
     "execution_count": 15,
     "metadata": {},
     "output_type": "execute_result"
    }
   ],
   "source": [
    "nb_lyr.schema"
   ]
  },
  {
   "cell_type": "code",
   "execution_count": null,
   "id": "d0c07c96-a0fa-49d2-989f-923d1032e2f2",
   "metadata": {},
   "outputs": [],
   "source": []
  },
  {
   "cell_type": "code",
   "execution_count": 16,
   "id": "15926115-0acf-455d-a19c-7634a76a0ac6",
   "metadata": {},
   "outputs": [
    {
     "data": {
      "text/plain": [
       "{'properties': OrderedDict([('STATEFP', 'str:80'),\n",
       "              ('COUNTYFP', 'str:80'),\n",
       "              ('TRACTCE', 'str:80'),\n",
       "              ('GEOID', 'str:80'),\n",
       "              ('NAME_x', 'str:80'),\n",
       "              ('NAMELSAD', 'str:80'),\n",
       "              ('MTFCC', 'str:80'),\n",
       "              ('FUNCSTAT', 'str:80'),\n",
       "              ('ALAND', 'int:18'),\n",
       "              ('AWATER', 'int:18'),\n",
       "              ('INTPTLAT', 'str:80'),\n",
       "              ('INTPTLON', 'str:80'),\n",
       "              ('NAME_y', 'str:80'),\n",
       "              ('GEO_ID', 'str:80'),\n",
       "              ('white_popu', 'str:80'),\n",
       "              ('non-hispan', 'str:80'),\n",
       "              ('black_popu', 'str:80'),\n",
       "              ('asian_popu', 'str:80'),\n",
       "              ('hispanic_p', 'str:80'),\n",
       "              ('total_popu', 'str:80'),\n",
       "              ('median_hou', 'str:80'),\n",
       "              ('per_capita', 'str:80'),\n",
       "              ('built_age', 'str:80'),\n",
       "              ('less_highs', 'str:80'),\n",
       "              ('bachelor', 'str:80'),\n",
       "              ('totaleduca', 'str:80'),\n",
       "              ('male_und18', 'str:80'),\n",
       "              ('female_und', 'str:80'),\n",
       "              ('male65_66', 'str:80'),\n",
       "              ('male67_69', 'str:80'),\n",
       "              ('male70_74', 'str:80'),\n",
       "              ('male75_79', 'str:80'),\n",
       "              ('male80_84', 'str:80'),\n",
       "              ('male85_', 'str:80'),\n",
       "              ('fema_65_66', 'str:80'),\n",
       "              ('fema_67_69', 'str:80'),\n",
       "              ('fema70_74', 'str:80'),\n",
       "              ('fema75_79', 'str:80'),\n",
       "              ('fema80_84', 'str:80'),\n",
       "              ('fema85_', 'str:80'),\n",
       "              ('state', 'str:80'),\n",
       "              ('county', 'str:80'),\n",
       "              ('tract', 'str:80'),\n",
       "              ('id', 'str:4')]),\n",
       " 'geometry': 'Polygon'}"
      ]
     },
     "execution_count": 16,
     "metadata": {},
     "output_type": "execute_result"
    }
   ],
   "source": [
    "schema = nb_lyr.schema.copy()\n",
    "schema['properties']['id'] = \"str:4\"\n",
    "schema"
   ]
  },
  {
   "cell_type": "code",
   "execution_count": null,
   "id": "7662e1f1-f374-4ae6-a6d5-07ddecff275b",
   "metadata": {},
   "outputs": [],
   "source": []
  },
  {
   "cell_type": "code",
   "execution_count": 17,
   "id": "391b591f-c53c-49da-874a-84abf941d672",
   "metadata": {},
   "outputs": [],
   "source": [
    "outfile = 'out_nbs.shp'\n",
    "\n",
    "# do map-matching for all traj and save them into one shapefile\n",
    "with fiona.open(outfile, 'w', crs = crs, driver='ESRI Shapefile', schema = schema) as out:\n",
    "    # loop the census tract shapefile and get the feature\n",
    "    for feat in nb_lyr:\n",
    "        feat['properties']['id'] = i\n",
    "        \n",
    "        ## prepare the feature, this should have the same structure as the schema you just defined.\n",
    "        feature = {'geometry': feat['geometry'], \n",
    "                    'properties': feat['properties']\n",
    "                  }\n",
    "        \n",
    "        out.write(feature)\n",
    "        "
   ]
  },
  {
   "cell_type": "markdown",
   "id": "4b9bae5f-d0fb-4d68-b638-ba2df402bb3c",
   "metadata": {},
   "source": [
    "It is pretty fast to create a new shapefile. Also, you can make them even faster using `array` and other strategeis. "
   ]
  },
  {
   "cell_type": "code",
   "execution_count": null,
   "id": "58389bce-a66b-4dab-9fa8-a7d3513fd6e0",
   "metadata": {},
   "outputs": [],
   "source": []
  },
  {
   "cell_type": "markdown",
   "id": "1f418dd2-e622-432d-96bc-e7478a401dd1",
   "metadata": {},
   "source": [
    "### 4. The base level, C++ style `GDAL`, `osr`, `ogr`\n",
    "There do have even more base level method. Naturally, it is also faster. We not only to talk too much about this. Just show you about what the code may look. \n"
   ]
  },
  {
   "cell_type": "code",
   "execution_count": 18,
   "id": "f38c7910-4690-449f-843a-4bd356a5c3e3",
   "metadata": {},
   "outputs": [],
   "source": [
    "from osgeo import ogr\n",
    "\n",
    "# Open the shapefile\n",
    "shapefile = ogr.Open(\"out_nbs.shp\")\n",
    "\n",
    "# Get the layer\n",
    "layer = shapefile.GetLayer()\n",
    "\n",
    "# Iterate over the features in the layer\n",
    "for feature in layer:\n",
    "    # Get the attributes of the feature\n",
    "    attributes = feature.items()\n",
    "    geometry = feature.GetGeometryRef()\n",
    "    \n",
    "    # Print the attributes\n",
    "    # print(attributes)\n",
    "    # print(geometry)\n",
    "    "
   ]
  },
  {
   "cell_type": "code",
   "execution_count": null,
   "id": "37b25ec4-ca29-4d40-aa08-4b1e1476d83d",
   "metadata": {},
   "outputs": [],
   "source": []
  },
  {
   "cell_type": "markdown",
   "id": "ad195ecd-25db-4272-b7af-4167fe953fa3",
   "metadata": {},
   "source": [
    "### 5. Raster data operations\n",
    "We are going to read a multispectral aerial imageries, and using rasterio to open the file, and generate the tree canopy cover"
   ]
  },
  {
   "cell_type": "markdown",
   "id": "79bad7aa-5341-41e8-a995-a84376dab9d0",
   "metadata": {},
   "source": [
    "Download a aerial imagery from AWS using urllib"
   ]
  },
  {
   "cell_type": "code",
   "execution_count": 2,
   "id": "428b6f66-b7e5-462b-a86b-f6e16a85aef5",
   "metadata": {},
   "outputs": [],
   "source": [
    "import urllib"
   ]
  },
  {
   "cell_type": "code",
   "execution_count": null,
   "id": "0f8d63eb-7e4b-49ad-84eb-548bab1ddf16",
   "metadata": {},
   "outputs": [],
   "source": [
    "url = 'https://urbanheatmaps.s3.amazonaws.com/pa_m_3907507_ne_18_1_20170611_20171207.tif'\n",
    "\n",
    "downloadfile = 'naip.tif'\n",
    "\n",
    "urllib.request.urlretrieve(url, downloadfile)"
   ]
  },
  {
   "cell_type": "code",
   "execution_count": 5,
   "id": "4ad47742-fe02-4217-bd9c-ffbff57c872d",
   "metadata": {},
   "outputs": [
    {
     "name": "stdout",
     "output_type": "stream",
     "text": [
      "\u001b[1m\u001b[34mcensus-tract-data\u001b[m\u001b[m/     out.prj                out_nbs.prj\n",
      "census-tract-data.zip  out.shp                out_nbs.shp\n",
      "naip.tif               out.shx                out_nbs.shx\n",
      "out.cpg                out_nbs.cpg            spatial-data-io.ipynb\n",
      "out.dbf                out_nbs.dbf\n"
     ]
    }
   ],
   "source": [
    "ls"
   ]
  },
  {
   "cell_type": "code",
   "execution_count": null,
   "id": "007f1909-520f-4764-a92c-33b530e77486",
   "metadata": {},
   "outputs": [],
   "source": []
  },
  {
   "cell_type": "code",
   "execution_count": null,
   "id": "748a63f5-883d-408c-bade-63f3c8553a2a",
   "metadata": {},
   "outputs": [],
   "source": []
  },
  {
   "cell_type": "code",
   "execution_count": 42,
   "id": "38177da1-6749-4abf-bd92-176941447908",
   "metadata": {},
   "outputs": [],
   "source": [
    "import rasterio\n",
    "\n",
    "raster_data = rasterio.open('naip.tif')"
   ]
  },
  {
   "cell_type": "code",
   "execution_count": 43,
   "id": "07881335-01d2-4670-9dab-fe130f998dda",
   "metadata": {},
   "outputs": [
    {
     "data": {
      "text/plain": [
       "BoundingBox(left=483680.0, bottom=4420527.0, right=489631.0, top=4428075.0)"
      ]
     },
     "execution_count": 43,
     "metadata": {},
     "output_type": "execute_result"
    }
   ],
   "source": [
    "raster_data.bounds"
   ]
  },
  {
   "cell_type": "code",
   "execution_count": null,
   "id": "d63cd114-6c0b-47d3-9ed3-56f2b1bd9928",
   "metadata": {},
   "outputs": [],
   "source": []
  },
  {
   "cell_type": "code",
   "execution_count": 46,
   "id": "148a56f5-e0a8-493f-9a5f-1a112427cf3a",
   "metadata": {},
   "outputs": [
    {
     "data": {
      "text/plain": [
       "(483680.0, 4420527.0, 489631.0, 4428075.0)"
      ]
     },
     "execution_count": 46,
     "metadata": {},
     "output_type": "execute_result"
    }
   ],
   "source": [
    "left = raster_data.bounds.left\n",
    "bottom = raster_data.bounds.bottom\n",
    "right = raster_data.bounds.right\n",
    "top = raster_data.bounds.top\n",
    "left, bottom, right, top"
   ]
  },
  {
   "cell_type": "code",
   "execution_count": null,
   "id": "e8bdf463-8351-4a6d-9e79-dbdfb1ed0db1",
   "metadata": {},
   "outputs": [],
   "source": []
  },
  {
   "cell_type": "code",
   "execution_count": 47,
   "id": "f924fc16-339c-4d0d-8e8a-a38ce765c142",
   "metadata": {},
   "outputs": [
    {
     "data": {
      "text/plain": [
       "CRS.from_epsg(26918)"
      ]
     },
     "execution_count": 47,
     "metadata": {},
     "output_type": "execute_result"
    }
   ],
   "source": [
    "raster_data.crs"
   ]
  },
  {
   "cell_type": "code",
   "execution_count": null,
   "id": "61ab4ede-dc9e-4978-bdd2-16393e7b8363",
   "metadata": {},
   "outputs": [],
   "source": []
  },
  {
   "cell_type": "code",
   "execution_count": 48,
   "id": "b110ee64-34c4-4d4a-819c-eae384d53627",
   "metadata": {},
   "outputs": [],
   "source": [
    "import numpy as np\n",
    "\n",
    "# calculate the ndvi, based on the updated way for downloading naip, \n",
    "# the order is different, rgbn\n",
    "nir = raster_data.read(1).astype(np.float32)/255.0\n",
    "red = raster_data.read(2).astype(np.float32)/255.0\n",
    "green = raster_data.read(3).astype(np.float32)/255.0\n",
    "\n",
    "# the height and width of the raster data\n",
    "height, width = nir.shape"
   ]
  },
  {
   "cell_type": "code",
   "execution_count": null,
   "id": "7034a999-332d-4443-851d-80e3df790b46",
   "metadata": {},
   "outputs": [],
   "source": []
  },
  {
   "cell_type": "markdown",
   "id": "e342421d-7ee6-4df0-81b6-ea73ce5dc97a",
   "metadata": {},
   "source": [
    "#### Calculate the NDVI for extrating the vegetation\n",
    "NDVI is used to quantify vegetation greenness and is useful in understanding vegetation density and assessing changes in plant health. NDVI is calculated as a ratio between the red (R) and near infrared (NIR) values in traditional fashion: (NIR - R) / (NIR + R). Usually, vegetation have NDVI > 0"
   ]
  },
  {
   "cell_type": "code",
   "execution_count": 49,
   "id": "47c83e09-bf60-4d27-b0d8-fb9af24bd1d5",
   "metadata": {},
   "outputs": [],
   "source": [
    "ndvi = (nir - red)/(nir + red)\n",
    "veg = ndvi > 0"
   ]
  },
  {
   "cell_type": "code",
   "execution_count": null,
   "id": "f50c311e-d305-47ae-a6f0-6688f54458ec",
   "metadata": {},
   "outputs": [],
   "source": []
  },
  {
   "cell_type": "markdown",
   "id": "a2a415b9-f537-42c7-8081-8d2b00da9473",
   "metadata": {},
   "source": [
    "#### prepare the schema of the output vegetation image"
   ]
  },
  {
   "cell_type": "code",
   "execution_count": 50,
   "id": "81ac2ccc-d52a-43f6-bc58-cc545b8a01e8",
   "metadata": {},
   "outputs": [],
   "source": [
    "out_meta = raster_data.meta.copy()\n",
    "out_meta.update({'count': 1, #one band\n",
    "                'dtype': 'uint8', #uint16, float\n",
    "                 \"height\": nir.shape[0],\n",
    "                 \"width\": nir.shape[1],\n",
    "                 \"crs\": raster_data.crs, \n",
    "                 'compress': 'lzw'}\n",
    "               )"
   ]
  },
  {
   "cell_type": "code",
   "execution_count": null,
   "id": "c1cdf7ea-46cd-47ad-aa60-0274306af90b",
   "metadata": {},
   "outputs": [],
   "source": []
  },
  {
   "cell_type": "markdown",
   "id": "54d52211-b5cc-4d20-b9a2-dd176d28a3fd",
   "metadata": {},
   "source": [
    "#### We need to reshape it into three dimension, 1 band, height, width"
   ]
  },
  {
   "cell_type": "code",
   "execution_count": 51,
   "id": "46b17461-2294-4a71-98f5-5e9601884aed",
   "metadata": {},
   "outputs": [],
   "source": [
    "veg_out = veg.reshape(1, height, width)"
   ]
  },
  {
   "cell_type": "code",
   "execution_count": null,
   "id": "34f75509-f90f-4317-8b76-5608baafeb90",
   "metadata": {},
   "outputs": [],
   "source": []
  },
  {
   "cell_type": "code",
   "execution_count": 52,
   "id": "884cef7e-bd5f-4ebf-a1d6-fec97fbd5134",
   "metadata": {},
   "outputs": [],
   "source": [
    "out_tif = 'veg.tif'\n",
    "\n",
    "with rasterio.open(out_tif, \"w\", **out_meta) as dest:\n",
    "    dest.write(veg_out.astype(np.uint8))"
   ]
  },
  {
   "cell_type": "code",
   "execution_count": null,
   "id": "a1863b79-befa-4481-9894-850bd2390f0b",
   "metadata": {},
   "outputs": [],
   "source": []
  }
 ],
 "metadata": {
  "kernelspec": {
   "display_name": "Python 3 (ipykernel)",
   "language": "python",
   "name": "python3"
  },
  "language_info": {
   "codemirror_mode": {
    "name": "ipython",
    "version": 3
   },
   "file_extension": ".py",
   "mimetype": "text/x-python",
   "name": "python",
   "nbconvert_exporter": "python",
   "pygments_lexer": "ipython3",
   "version": "3.9.18"
  }
 },
 "nbformat": 4,
 "nbformat_minor": 5
}
