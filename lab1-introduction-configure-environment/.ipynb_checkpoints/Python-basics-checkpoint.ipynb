{
 "cells": [
  {
   "cell_type": "markdown",
   "id": "620a5a6e-5e9e-4701-8186-380c35ba890e",
   "metadata": {},
   "source": [
    "### Basics of Python programming\n",
    "\n",
    "1. Data types\n",
    "2. Data structure\n",
    "3. Loops\n",
    "4. Python modules\n",
    "5. Files and folders operations\n",
    "\n",
    "Reference:\n",
    "https://www.w3schools.com/python/python_datatypes.asp\n"
   ]
  },
  {
   "cell_type": "code",
   "execution_count": null,
   "id": "0774c282-7590-403f-af6e-dc5939a3466b",
   "metadata": {},
   "outputs": [],
   "source": []
  },
  {
   "cell_type": "code",
   "execution_count": 4,
   "id": "85193002-91e7-4c63-862f-576cf8b720c0",
   "metadata": {},
   "outputs": [
    {
     "name": "stdout",
     "output_type": "stream",
     "text": [
      "Hello, World!\n"
     ]
    }
   ],
   "source": [
    "print(\"Hello, World!\")\n"
   ]
  },
  {
   "cell_type": "code",
   "execution_count": null,
   "id": "a6c1edd1-1e4a-4ee6-b5cd-3cd2f92a41a6",
   "metadata": {},
   "outputs": [],
   "source": []
  },
  {
   "cell_type": "markdown",
   "id": "210d43b4-b3a9-4505-ba21-4787875a741e",
   "metadata": {},
   "source": [
    "#### Be familar with Data Types"
   ]
  },
  {
   "cell_type": "markdown",
   "id": "d4c9c701-bb48-4390-8652-cbcd801e56f2",
   "metadata": {},
   "source": [
    "In programming, data type is an important concept.\n",
    "\n",
    "Variables can store data of different types, and different types can do different things.\n",
    "\n",
    "Python has the following data types built-in by default, in these categories:\n",
    "\n",
    "- Text Type:\tstr\n",
    "- Numeric Types:\tint, float, complex\n",
    "- Sequence Types:\tlist, tuple, range\n",
    "- Mapping Type:\tdict\n",
    "- Set Types:\tset, frozenset\n",
    "- Boolean Type:\tbool\n",
    "- Binary Types:\tbytes, bytearray, memoryview\n",
    "- None Type:\tNoneType"
   ]
  },
  {
   "cell_type": "code",
   "execution_count": 1,
   "id": "34651957-677a-4e23-b45c-02158ab4e5a5",
   "metadata": {
    "scrolled": true
   },
   "outputs": [
    {
     "name": "stdout",
     "output_type": "stream",
     "text": [
      "<class 'int'>\n"
     ]
    }
   ],
   "source": [
    "x = 5\n",
    "print(type(x))"
   ]
  },
  {
   "cell_type": "code",
   "execution_count": null,
   "id": "5898af34-7b53-4556-b68c-b978601bd89d",
   "metadata": {},
   "outputs": [],
   "source": []
  },
  {
   "cell_type": "code",
   "execution_count": 3,
   "id": "16d40b9b-b492-485c-a74e-d0b871a8b243",
   "metadata": {},
   "outputs": [],
   "source": [
    "x = \"Hello World\"#\tstr\t\n",
    "x = 20    #\tint\t\n",
    "x = 20.5\t#float\t\n",
    "x = 1j\t#complex\t\n",
    "x = [\"apple\", \"banana\", \"cherry\"]\t#list\t\n",
    "x = (\"apple\", \"banana\", \"cherry\")\t#tuple\t\n",
    "x = range(6)\t#range\t\n",
    "x = {\"name\" : \"John\", \"age\" : 36}\t#dict\t\n",
    "x = {\"apple\", \"banana\", \"cherry\"}\t#set\t\n",
    "x = True\t#bool\t\n",
    "x = None\t#NoneType"
   ]
  },
  {
   "cell_type": "code",
   "execution_count": null,
   "id": "1a46e431-e052-4900-b1aa-271ac3cd40b3",
   "metadata": {},
   "outputs": [],
   "source": []
  },
  {
   "cell_type": "markdown",
   "id": "9b54345e-f01f-4fc1-b81b-870e6c3e16d4",
   "metadata": {},
   "source": [
    "#### Working with `List` \n",
    "List is a popular data structure. It provides very useful tool for lots of operations."
   ]
  },
  {
   "cell_type": "markdown",
   "id": "6a1d84ca-24af-4572-843c-8fd1f59e7b58",
   "metadata": {},
   "source": [
    "List items are ordered, changeable, and allow duplicate values. List items are indexed, the first item has index [0], the second item has index [1] etc.\n",
    "\n",
    "- Ordered: When we say that lists are ordered, it means that the items have a defined order, and that order will not change. If you add new items to a list, the new items will be placed at the end of the list. \n",
    "- Changeable: The list is changeable, meaning that we can change, add, and remove items in a list after it has been created.\n",
    "- Allow Duplicates:Since lists are indexed, lists can have items with the same value:"
   ]
  },
  {
   "cell_type": "code",
   "execution_count": 35,
   "id": "74c729ce-f220-4bb2-a744-2251648aef54",
   "metadata": {},
   "outputs": [
    {
     "name": "stdout",
     "output_type": "stream",
     "text": [
      "['apple', 'banana', 'cherry', 'orange', 'pear', 1, 4, True]\n"
     ]
    }
   ],
   "source": [
    "thislist = [\"apple\", \"banana\", \"cherry\", \"orange\", \"pear\", 1, 4, True]\n",
    "print(thislist)"
   ]
  },
  {
   "cell_type": "code",
   "execution_count": null,
   "id": "1bd14ad8-262b-4b03-a4ca-6a5f710ddee3",
   "metadata": {},
   "outputs": [],
   "source": []
  },
  {
   "cell_type": "code",
   "execution_count": 36,
   "id": "84f3d4c1-818d-46f6-8285-f188cde73910",
   "metadata": {},
   "outputs": [
    {
     "name": "stdout",
     "output_type": "stream",
     "text": [
      "The length of the list 8\n",
      "['apple', 'banana', 'watermelon', 'cherry', 'orange', 'pear', 1, 4, True]\n",
      "apple\n",
      "banana\n",
      "True\n",
      "4\n",
      "['apple', 'banana']\n",
      "[4, True]\n"
     ]
    }
   ],
   "source": [
    "print(\"The length of the list\", len(thislist))\n",
    "\n",
    "\n",
    "# get the first item of the list, start from 0\n",
    "print(thislist[0])\n",
    "print(thislist[1])\n",
    "\n",
    "print(thislist[-1]) #the last item of the list\n",
    "print(thislist[-2]) #the last two item\n",
    "\n",
    "print(thislist[0:2]) #print the first two multiple items\n",
    "print(thislist[-2:]) #print the last two items"
   ]
  },
  {
   "cell_type": "code",
   "execution_count": null,
   "id": "55c37b49-877c-4803-b199-a1a71e00cc0f",
   "metadata": {},
   "outputs": [],
   "source": []
  },
  {
   "cell_type": "markdown",
   "id": "318acff2-4186-409d-aa2d-827719464f60",
   "metadata": {},
   "source": [
    "You can add new item at any position, you can also concatenate multiple list, remove items from the list."
   ]
  },
  {
   "cell_type": "code",
   "execution_count": 38,
   "id": "ccec901c-8d49-4fc2-bf82-ac8f441e5211",
   "metadata": {},
   "outputs": [
    {
     "name": "stdout",
     "output_type": "stream",
     "text": [
      "['apple', 'banana', 'watermelon', 'watermelon', 'cherry', 'orange', 'pear', 1, 4, True, 'orange', 'orange']\n"
     ]
    }
   ],
   "source": [
    "thislist.append(\"orange\") #add at the end of the list\n",
    "\n",
    "thislist.insert(2, \"watermelon\") #insert at any position\n",
    "print(thislist)"
   ]
  },
  {
   "cell_type": "code",
   "execution_count": null,
   "id": "65a0af84-b3b9-4e72-a3db-501b6257a284",
   "metadata": {},
   "outputs": [],
   "source": []
  },
  {
   "cell_type": "code",
   "execution_count": 42,
   "id": "b93bacb4-d838-400d-849b-18e3f3c85b2b",
   "metadata": {},
   "outputs": [
    {
     "name": "stdout",
     "output_type": "stream",
     "text": [
      "['apple', 'banana', 'watermelon', 'watermelon', 'cherry', 'orange', 'pear', 1, 4, True, 'orange', 'orange', 'mango', 'pineapple', 'papaya', 'mango', 'pineapple', 'papaya', 'mango', 'pineapple', 'papaya', 'mango', 'pineapple', 'papaya']\n"
     ]
    }
   ],
   "source": [
    "tropical = [\"mango\", \"pineapple\", \"papaya\"]\n",
    "thislist.extend(tropical)\n",
    "print(thislist)"
   ]
  },
  {
   "cell_type": "code",
   "execution_count": null,
   "id": "83bd7314-855b-4441-a554-e71887868521",
   "metadata": {},
   "outputs": [],
   "source": []
  },
  {
   "cell_type": "markdown",
   "id": "f4fb1cca-b5fe-46b6-8197-97ec93334997",
   "metadata": {},
   "source": [
    "#### Working with `Dictionary`\n",
    "Dictionaries are used to store data values in `key:value` pairs. A dictionary is a collection which is ordered*, changeable and do not allow duplicates.\n",
    "\n"
   ]
  },
  {
   "cell_type": "code",
   "execution_count": 2,
   "id": "478e1284-7e43-49df-a674-c08f2b067a2c",
   "metadata": {},
   "outputs": [
    {
     "name": "stdout",
     "output_type": "stream",
     "text": [
      "Ford\n"
     ]
    }
   ],
   "source": [
    "thisdict = {\n",
    "  \"brand\": \"Ford\",\n",
    "  \"model\": \"Mustang\",\n",
    "  \"year\": 1964\n",
    "}\n",
    "\n",
    "print(thisdict[\"brand\"])"
   ]
  },
  {
   "cell_type": "code",
   "execution_count": null,
   "id": "871155bc-92b0-4354-8c10-cca85f403fb7",
   "metadata": {},
   "outputs": [],
   "source": []
  },
  {
   "cell_type": "markdown",
   "id": "1c981fac-bfb4-499e-b957-07269e19918e",
   "metadata": {},
   "source": [
    "The keys() method will return a list of all the keys in the dictionary."
   ]
  },
  {
   "cell_type": "code",
   "execution_count": 3,
   "id": "76eeb0c8-6cc7-4feb-8aa5-7b2d71fa7ced",
   "metadata": {},
   "outputs": [
    {
     "data": {
      "text/plain": [
       "dict_keys(['brand', 'model', 'year'])"
      ]
     },
     "execution_count": 3,
     "metadata": {},
     "output_type": "execute_result"
    }
   ],
   "source": [
    "x = thisdict.keys()\n",
    "x"
   ]
  },
  {
   "cell_type": "code",
   "execution_count": null,
   "id": "e9cb9edb-55ac-4d8e-9f6d-98dc1ba32f7a",
   "metadata": {},
   "outputs": [],
   "source": []
  },
  {
   "cell_type": "markdown",
   "id": "dcd2d6cf-2314-4bc1-ae1a-d9645ed2ae0a",
   "metadata": {},
   "source": [
    "Adding an item to the dictionary is done by using a new index key and assigning a value to it:"
   ]
  },
  {
   "cell_type": "code",
   "execution_count": 4,
   "id": "af29bbcd-3460-46e3-82c3-b776abdd4e15",
   "metadata": {},
   "outputs": [
    {
     "name": "stdout",
     "output_type": "stream",
     "text": [
      "{'brand': 'Ford', 'model': 'Mustang', 'year': 1964, 'color': 'red'}\n"
     ]
    }
   ],
   "source": [
    "thisdict[\"color\"] = \"red\"\n",
    "print(thisdict)"
   ]
  },
  {
   "cell_type": "code",
   "execution_count": null,
   "id": "81fb34c0-7049-41c3-9045-deb498530298",
   "metadata": {},
   "outputs": [],
   "source": []
  },
  {
   "cell_type": "markdown",
   "id": "64201b6b-3d34-4f09-939b-00d7bc2470d5",
   "metadata": {},
   "source": [
    "The update() method will update the dictionary with the items from a given argument. If the item does not exist, the item will be added. The argument must be a dictionary, or an iterable object with key:value pairs."
   ]
  },
  {
   "cell_type": "code",
   "execution_count": 5,
   "id": "53af0c38-3c61-428d-8cc4-24c63d2f899a",
   "metadata": {},
   "outputs": [
    {
     "data": {
      "text/plain": [
       "{'brand': 'Ford', 'model': 'Mustang', 'year': 1964, 'color': 'blue'}"
      ]
     },
     "execution_count": 5,
     "metadata": {},
     "output_type": "execute_result"
    }
   ],
   "source": [
    "thisdict.update({\"color\": \"blue\"})\n",
    "thisdict"
   ]
  },
  {
   "cell_type": "code",
   "execution_count": null,
   "id": "1813a78c-90fb-41c6-9066-9dbfbeffd9af",
   "metadata": {},
   "outputs": [],
   "source": []
  },
  {
   "cell_type": "markdown",
   "id": "a89d2feb-110d-4fb1-9e25-00e56eb2db48",
   "metadata": {},
   "source": [
    "Loop all the key:value pairs"
   ]
  },
  {
   "cell_type": "code",
   "execution_count": 6,
   "id": "fbcd0acc-1aba-492e-b3d9-e467d9e82869",
   "metadata": {},
   "outputs": [
    {
     "name": "stdout",
     "output_type": "stream",
     "text": [
      "the values are brand Ford\n",
      "the values are model Mustang\n",
      "the values are year 1964\n",
      "the values are color blue\n"
     ]
    }
   ],
   "source": [
    "for val in thisdict.keys():\n",
    "    print(\"the values are\", val, thisdict[val])"
   ]
  },
  {
   "cell_type": "code",
   "execution_count": null,
   "id": "95bc308c-0fd5-4d52-8137-d4dc8a15e8ec",
   "metadata": {},
   "outputs": [],
   "source": []
  },
  {
   "cell_type": "markdown",
   "id": "e8a7325e-090a-4c4c-b038-5a478f8378af",
   "metadata": {},
   "source": [
    "#### Python Conditions and `if`, `else` statements\n",
    "Python supports the usual logical conditions from mathematics:\n",
    "\n",
    "- Equals: a == b\n",
    "- Not Equals: a != b\n",
    "- Less than: a < b\n",
    "- Less than or equal to: a <= b\n",
    "- Greater than: a > b\n",
    "- Greater than or equal to: a >= b\n",
    "\n",
    "These conditions can be used in several ways, most commonly in \"if statements\" and loops.\n",
    "\n",
    "An \"if statement\" is written by using the if keyword."
   ]
  },
  {
   "cell_type": "code",
   "execution_count": 67,
   "id": "50790ae1-a73a-42d7-acf5-01c6b053b5ef",
   "metadata": {},
   "outputs": [
    {
     "name": "stdout",
     "output_type": "stream",
     "text": [
      "a is greater than b\n"
     ]
    }
   ],
   "source": [
    "a = 200\n",
    "b = 33\n",
    "\n",
    "if b > a:\n",
    "    print(\"b is greater than a\")\n",
    "elif a == b:\n",
    "    print(\"a and b are equal\")\n",
    "else:\n",
    "    print(\"a is greater than b\")"
   ]
  },
  {
   "cell_type": "code",
   "execution_count": null,
   "id": "58dc8bba-d7c6-407b-b80f-4ccfeefc4fc3",
   "metadata": {},
   "outputs": [],
   "source": []
  },
  {
   "cell_type": "markdown",
   "id": "cf4c3753-d7d3-4ef4-8b98-f5070f6368b5",
   "metadata": {},
   "source": [
    "##### `and` operation"
   ]
  },
  {
   "cell_type": "code",
   "execution_count": 68,
   "id": "93c50af4-0fc7-4f4c-9f1c-1b50b11dcd5b",
   "metadata": {},
   "outputs": [
    {
     "name": "stdout",
     "output_type": "stream",
     "text": [
      "Both conditions are True\n"
     ]
    }
   ],
   "source": [
    "a = 200\n",
    "b = 33\n",
    "c = 500\n",
    "if a > b and c > a:\n",
    "    print(\"Both conditions are True\")"
   ]
  },
  {
   "cell_type": "markdown",
   "id": "afd1d31b-f83c-44ea-88e4-0790c48dc080",
   "metadata": {},
   "source": [
    "##### `or` operation"
   ]
  },
  {
   "cell_type": "code",
   "execution_count": 69,
   "id": "7235a33e-4dd2-4d46-b228-62ed1b884afa",
   "metadata": {},
   "outputs": [
    {
     "name": "stdout",
     "output_type": "stream",
     "text": [
      "At least one of the conditions is True\n"
     ]
    }
   ],
   "source": [
    "a = 200\n",
    "b = 33\n",
    "c = 500\n",
    "if a > b or a > c:\n",
    "    print(\"At least one of the conditions is True\")"
   ]
  },
  {
   "cell_type": "code",
   "execution_count": null,
   "id": "63d1d4fe-efb6-45ec-add7-eb0c8025177f",
   "metadata": {},
   "outputs": [],
   "source": []
  },
  {
   "cell_type": "markdown",
   "id": "a2647ad3-120b-4d3b-a1d0-7411858dc5e1",
   "metadata": {},
   "source": [
    "#### Loops in Python\n",
    "There are two major loops in Python, the `for` loop and the `while` loop. "
   ]
  },
  {
   "cell_type": "code",
   "execution_count": 14,
   "id": "b4cb9b3e-6878-413c-ab37-36fec480532b",
   "metadata": {},
   "outputs": [
    {
     "name": "stdout",
     "output_type": "stream",
     "text": [
      "apple\n",
      "banana\n",
      "cherry\n"
     ]
    }
   ],
   "source": [
    "## a list, we are going to loop each item of the list\n",
    "fruits = [\"apple\", \"banana\", \"cherry\"]\n",
    "\n",
    "for x in fruits:\n",
    "    print(x)"
   ]
  },
  {
   "cell_type": "code",
   "execution_count": null,
   "id": "e066869d-c8f8-419d-a04e-1ea8e17d4746",
   "metadata": {},
   "outputs": [],
   "source": []
  },
  {
   "cell_type": "markdown",
   "id": "aca2eff2-94d7-43a2-ae50-2c0596e82855",
   "metadata": {},
   "source": [
    "we usually use `for` loop together with `range`"
   ]
  },
  {
   "cell_type": "code",
   "execution_count": 73,
   "id": "cd64e63c-6e1d-47e4-8e2b-c11d2b773ef6",
   "metadata": {},
   "outputs": [
    {
     "name": "stdout",
     "output_type": "stream",
     "text": [
      "0\n",
      "1\n",
      "2\n",
      "3\n",
      "4\n",
      "5\n",
      "6\n",
      "7\n",
      "8\n",
      "9\n"
     ]
    }
   ],
   "source": [
    "for i in range(10):\n",
    "    print(i)"
   ]
  },
  {
   "cell_type": "code",
   "execution_count": null,
   "id": "08d98839-d1a4-478a-9d10-442b86d4fece",
   "metadata": {},
   "outputs": [],
   "source": []
  },
  {
   "cell_type": "code",
   "execution_count": 77,
   "id": "19dd1987-69ce-466c-b912-19bd9bfd3bf3",
   "metadata": {},
   "outputs": [
    {
     "name": "stdout",
     "output_type": "stream",
     "text": [
      "2\n",
      "3\n",
      "4\n",
      "5\n"
     ]
    }
   ],
   "source": [
    "#Using the start parameter:\n",
    "for x in range(2, 6):\n",
    "    print(x)"
   ]
  },
  {
   "cell_type": "code",
   "execution_count": null,
   "id": "6ba2bcea-1b68-4b44-b180-0cb81d015a48",
   "metadata": {},
   "outputs": [],
   "source": []
  },
  {
   "cell_type": "code",
   "execution_count": 76,
   "id": "548ec406-cdb0-474b-b237-9401277d2685",
   "metadata": {},
   "outputs": [
    {
     "name": "stdout",
     "output_type": "stream",
     "text": [
      "2\n",
      "5\n",
      "8\n",
      "11\n",
      "14\n",
      "17\n",
      "20\n",
      "23\n",
      "26\n",
      "29\n"
     ]
    }
   ],
   "source": [
    "#Increment the sequence with 3 (default is 1):\n",
    "for x in range(2, 30, 3):\n",
    "    print(x)"
   ]
  },
  {
   "cell_type": "code",
   "execution_count": null,
   "id": "cc1bcad2-e56f-44ed-b743-ce466cf93bfb",
   "metadata": {},
   "outputs": [],
   "source": []
  },
  {
   "cell_type": "markdown",
   "id": "7db458dd-4d79-46ed-b186-99428e932a6c",
   "metadata": {},
   "source": [
    "`while` loop"
   ]
  },
  {
   "cell_type": "code",
   "execution_count": 18,
   "id": "5c206039-5c16-46d8-b9cf-452450d07a50",
   "metadata": {},
   "outputs": [
    {
     "name": "stdout",
     "output_type": "stream",
     "text": [
      "1\n",
      "2\n",
      "3\n",
      "4\n",
      "5\n",
      "6\n",
      "7\n",
      "8\n",
      "9\n",
      "10\n"
     ]
    }
   ],
   "source": [
    "i = 1\n",
    "while i < 100:\n",
    "    print(i)\n",
    "    i += 1\n",
    "    \n",
    "    if i>10:\n",
    "        break\n",
    "    "
   ]
  },
  {
   "cell_type": "code",
   "execution_count": null,
   "id": "4c58ae47-2a9c-4f75-9cfd-3ea8fc17f731",
   "metadata": {},
   "outputs": [],
   "source": []
  },
  {
   "cell_type": "code",
   "execution_count": null,
   "id": "e121d251-7fd4-4b97-b836-ebecd199a0a1",
   "metadata": {},
   "outputs": [],
   "source": []
  },
  {
   "cell_type": "markdown",
   "id": "404d55ca-ea0a-4648-a3be-ff5c7dc5a2c7",
   "metadata": {},
   "source": [
    "Working with `function`\n",
    "\n",
    "Functions allow a programmer to write reusable code to perform a single action. Functions provide better modulatrity for your application and a high degree of code-reusing. Once a function is defined, it can be called by typing the name of the function and passing the arguments. For example, Python gives you many built-in functions like print(). Functions can just perform an operation, or they can return values.\n",
    "\n",
    "Functions are defined using the key word `def`."
   ]
  },
  {
   "cell_type": "code",
   "execution_count": 7,
   "id": "b433f62b-b989-4b7b-b8ad-51a22b428e44",
   "metadata": {},
   "outputs": [
    {
     "name": "stdout",
     "output_type": "stream",
     "text": [
      "15\n",
      "25\n",
      "45\n"
     ]
    }
   ],
   "source": [
    "def my_function(x):\n",
    "    return 5 * x\n",
    "\n",
    "print(my_function(3))\n",
    "print(my_function(5))\n",
    "print(my_function(9))"
   ]
  },
  {
   "cell_type": "code",
   "execution_count": null,
   "id": "17369b35-7f7b-4729-a13e-3268aba32ce5",
   "metadata": {},
   "outputs": [],
   "source": []
  },
  {
   "cell_type": "code",
   "execution_count": 8,
   "id": "e7f09668-129a-4216-8766-13c9ba4e3eea",
   "metadata": {},
   "outputs": [
    {
     "name": "stdout",
     "output_type": "stream",
     "text": [
      "[-5, 8, 29, 58, 95, 140, 193, 254, 323, 400]\n"
     ]
    }
   ],
   "source": [
    "def y_fun(x):\n",
    "    y = 4*x*x + x - 10\n",
    "    return y\n",
    "\n",
    "x = [1, 2, 3, 4, 5, 6, 7, 8, 9, 10]\n",
    "y_list = []\n",
    "\n",
    "for i in x:\n",
    "    y = y_fun(i)\n",
    "    y_list.append(y)\n",
    "    \n",
    "print(y_list)"
   ]
  },
  {
   "cell_type": "code",
   "execution_count": null,
   "id": "81fd46f2-3373-42c9-b4b2-e0daeb85877c",
   "metadata": {},
   "outputs": [],
   "source": []
  },
  {
   "cell_type": "markdown",
   "id": "40558cb1-0ad4-46b1-94a2-df3af349e80d",
   "metadata": {},
   "source": [
    "#### Working with `Array`\n",
    "An array is a special variable, which can hold more than one value at a time. An array can hold many values under a single name, and you can access the values by referring to an index number. ** Array ** items should be the same type. This is different from the list."
   ]
  },
  {
   "cell_type": "code",
   "execution_count": 9,
   "id": "32f4feb1-065c-44bd-9b9a-7c49f0842357",
   "metadata": {},
   "outputs": [
    {
     "name": "stdout",
     "output_type": "stream",
     "text": [
      "['Ford', 'Volvo', 'BMW']\n"
     ]
    }
   ],
   "source": [
    "cars = [\"Ford\", \"Volvo\", \"BMW\"]\n",
    "print (cars)"
   ]
  },
  {
   "cell_type": "code",
   "execution_count": 10,
   "id": "12d5cd00-4cbe-49ad-a2ac-932c85e7a246",
   "metadata": {},
   "outputs": [
    {
     "data": {
      "text/plain": [
       "3"
      ]
     },
     "execution_count": 10,
     "metadata": {},
     "output_type": "execute_result"
    }
   ],
   "source": [
    "x = len(cars)\n",
    "x"
   ]
  },
  {
   "cell_type": "code",
   "execution_count": 11,
   "id": "e07bdba8-026a-477a-b823-5ce7856bdfb7",
   "metadata": {},
   "outputs": [
    {
     "data": {
      "text/plain": [
       "['Ford', 'Volvo', 'BMW', 'Nissan']"
      ]
     },
     "execution_count": 11,
     "metadata": {},
     "output_type": "execute_result"
    }
   ],
   "source": [
    "cars.append(\"Nissan\")\n",
    "cars"
   ]
  },
  {
   "cell_type": "code",
   "execution_count": 12,
   "id": "2cd35d64-e984-4e55-84df-ddd04c0a912c",
   "metadata": {},
   "outputs": [
    {
     "data": {
      "text/plain": [
       "'Volvo'"
      ]
     },
     "execution_count": 12,
     "metadata": {},
     "output_type": "execute_result"
    }
   ],
   "source": [
    "# Delete the second element of the cars array:\n",
    "cars.pop(1)"
   ]
  },
  {
   "cell_type": "code",
   "execution_count": 14,
   "id": "d2836a0d-e335-4dd1-9f98-63fab34c5bb7",
   "metadata": {},
   "outputs": [
    {
     "name": "stdout",
     "output_type": "stream",
     "text": [
      "['Ford', 'BMW', 'Nissan']\n"
     ]
    }
   ],
   "source": [
    "print(cars)"
   ]
  },
  {
   "cell_type": "code",
   "execution_count": null,
   "id": "c17f977d-4133-4ce7-9f97-1cf7d84bf6f7",
   "metadata": {},
   "outputs": [],
   "source": []
  },
  {
   "cell_type": "code",
   "execution_count": 99,
   "id": "91160f07-91eb-4dd6-a241-e3d22714a900",
   "metadata": {},
   "outputs": [
    {
     "data": {
      "text/plain": [
       "['Ford', 'Nissan']"
      ]
     },
     "execution_count": 99,
     "metadata": {},
     "output_type": "execute_result"
    }
   ],
   "source": [
    "cars.remove(\"BMW\")\n",
    "cars"
   ]
  },
  {
   "cell_type": "code",
   "execution_count": null,
   "id": "d79698fb-3676-48f8-81ec-8a95d9ac6081",
   "metadata": {},
   "outputs": [],
   "source": []
  },
  {
   "cell_type": "markdown",
   "id": "fc12f7c6-bb67-4067-b4a3-3b57846624c6",
   "metadata": {},
   "source": [
    "#### Working with `numpy` array\n",
    "Numpy array is more widely used in Python. Numpy powers Python in GIS and AI. NumPy is a Python library. NumPy is used for working with arrays. NumPy is short for \"Numerical Python\"."
   ]
  },
  {
   "cell_type": "code",
   "execution_count": 15,
   "id": "c4b9b67d-14f7-4091-8ca2-37de82c33552",
   "metadata": {},
   "outputs": [
    {
     "name": "stdout",
     "output_type": "stream",
     "text": [
      "[1 2 3 4 5]\n",
      "<class 'numpy.ndarray'>\n"
     ]
    }
   ],
   "source": [
    "import numpy as np\n",
    "\n",
    "arr = np.array([1, 2, 3, 4, 5])\n",
    "\n",
    "print(arr)\n",
    "\n",
    "print(type(arr))\n"
   ]
  },
  {
   "cell_type": "code",
   "execution_count": null,
   "id": "9b6d47b7-feef-4b78-a33a-40f125ec3272",
   "metadata": {},
   "outputs": [],
   "source": []
  },
  {
   "cell_type": "code",
   "execution_count": 16,
   "id": "0790625e-849d-4fcd-a3a5-7e138c09e64a",
   "metadata": {},
   "outputs": [
    {
     "name": "stdout",
     "output_type": "stream",
     "text": [
      "2nd element on 1st row:  2\n"
     ]
    }
   ],
   "source": [
    "import numpy as np\n",
    "\n",
    "arr = np.array([[1,2,3,4,5], [6,7,8,9,10]])\n",
    "\n",
    "print('2nd element on 1st row: ', arr[0, 1])"
   ]
  },
  {
   "cell_type": "code",
   "execution_count": 17,
   "id": "b00e3ffc-3151-4c35-bd42-db07acda52d8",
   "metadata": {},
   "outputs": [
    {
     "name": "stdout",
     "output_type": "stream",
     "text": [
      "7\n"
     ]
    }
   ],
   "source": [
    "import numpy as np\n",
    "\n",
    "arr = np.array([1, 2, 3, 4])\n",
    "\n",
    "print(arr[2] + arr[3])"
   ]
  },
  {
   "cell_type": "code",
   "execution_count": null,
   "id": "d0408524-e39f-49fc-8e03-f51ad0878d42",
   "metadata": {},
   "outputs": [],
   "source": []
  },
  {
   "cell_type": "markdown",
   "id": "a7803a68-eb53-429a-b0a9-e9027fd603c0",
   "metadata": {},
   "source": [
    "#### Python inbuilt modules for file/folders\n",
    "There are many inbuilt Python modules. We don't need to install them and just use them directly. These modules are handy for many operations. `numpy` is an inbuilt module. For example, we can use modules of `os`, `os.path` for the file operations, like create file path full name, create folder, check the existance of the files. "
   ]
  },
  {
   "cell_type": "code",
   "execution_count": 18,
   "id": "5ad85a7e-5c6e-4b90-9156-9563574bd02e",
   "metadata": {},
   "outputs": [
    {
     "name": "stdout",
     "output_type": "stream",
     "text": [
      "/home/user/test.jpg\n"
     ]
    }
   ],
   "source": [
    "import os, os.path\n",
    "\n",
    "root = r\"/home/user/\"\n",
    "path = 'test.jpg'\n",
    "\n",
    "fullpath = os.path.join(root, path)\n",
    "print(fullpath)"
   ]
  },
  {
   "cell_type": "code",
   "execution_count": null,
   "id": "b97362c6-183e-4910-9da1-2de209945d38",
   "metadata": {},
   "outputs": [],
   "source": []
  },
  {
   "cell_type": "markdown",
   "id": "e4752ac3-2783-48d3-a2a2-b182df02e5e1",
   "metadata": {},
   "source": [
    "Create a folder"
   ]
  },
  {
   "cell_type": "code",
   "execution_count": 11,
   "id": "c02e60c3-c67f-46d2-a725-107b07ed16cc",
   "metadata": {},
   "outputs": [
    {
     "name": "stdout",
     "output_type": "stream",
     "text": [
      "The folder already exists\n"
     ]
    }
   ],
   "source": [
    "folder = r'testfolder' #the path of the folder, can be absolute path or relative path, here is the folder in the current working directory\n",
    "if not os.path.exists(folder): #if the folder is not exists, then create a folder\n",
    "    print(\"the folder not exists, we are going to create one\")\n",
    "    os.mkdir(folder)\n",
    "else:\n",
    "    print(\"The folder already exists\")"
   ]
  },
  {
   "cell_type": "code",
   "execution_count": 106,
   "id": "aceeb534-0be8-4604-8ea6-ce264e6da386",
   "metadata": {},
   "outputs": [
    {
     "name": "stdout",
     "output_type": "stream",
     "text": [
      "Python-basics.ipynb  \u001b[1m\u001b[34mtestfolder\u001b[m\u001b[m/\n"
     ]
    }
   ],
   "source": [
    "ls"
   ]
  },
  {
   "cell_type": "code",
   "execution_count": null,
   "id": "19dd86ce-36b3-4c38-9771-89fbdbec21b4",
   "metadata": {},
   "outputs": [],
   "source": []
  },
  {
   "cell_type": "code",
   "execution_count": 19,
   "id": "0b64e084-bc5a-4dfc-8b0f-45f7c4809c8e",
   "metadata": {},
   "outputs": [
    {
     "data": {
      "image/png": "[encoded data removed]",
      "text/plain": [
       "<Figure size 640x480 with 1 Axes>"
      ]
     },
     "metadata": {},
     "output_type": "display_data"
    }
   ],
   "source": [
    "from matplotlib import pyplot as plt\n",
    "\n",
    "a = np.array([1, 2, 4, 10, 14, 16])\n",
    "\n",
    "plt.plot(a)\n",
    "plt.show()\n"
   ]
  },
  {
   "cell_type": "code",
   "execution_count": null,
   "id": "c4fd5c39-2bbf-4132-9c62-b81dca58e5f9",
   "metadata": {},
   "outputs": [],
   "source": []
  }
 ],
 "metadata": {
  "kernelspec": {
   "display_name": "Python 3 (ipykernel)",
   "language": "python",
   "name": "python3"
  },
  "language_info": {
   "codemirror_mode": {
    "name": "ipython",
    "version": 3
   },
   "file_extension": ".py",
   "mimetype": "text/x-python",
   "name": "python",
   "nbconvert_exporter": "python",
   "pygments_lexer": "ipython3",
   "version": "3.9.18"
  }
 },
 "nbformat": 4,
 "nbformat_minor": 5
}
