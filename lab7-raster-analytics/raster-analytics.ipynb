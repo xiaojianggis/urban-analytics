{
 "cells": [
  {
   "cell_type": "markdown",
   "id": "52d9d795-bcf4-42f0-9449-1a6397993047",
   "metadata": {},
   "source": [
    "### Socio-enviornmental analysis of Vegetation coverage of Philadelphia\n",
    "\n",
    "In this tutorial, we will try to answer an important question, where are tree canopies in Philadelphia? \n",
    "\n",
    "We will use Python to analyze the land cover map of Philadelphia, create tree canopy cover map at census tract level,  analyze the distribution of three canopy covers, and exmaine the relationship between social status and vegetation cover in Philadelphia. "
   ]
  },
  {
   "cell_type": "code",
   "execution_count": null,
   "id": "89c180fb-4781-4099-9463-e2b268c1a6f3",
   "metadata": {},
   "outputs": [],
   "source": []
  },
  {
   "cell_type": "markdown",
   "id": "8726f090-8798-4f0c-9737-a62492faa4a0",
   "metadata": {},
   "source": [
    "Download the data from, https://utilitiesfiles.s3.amazonaws.com/urban-analytic-class/raster-analytics-data.zip. There are two files, land use/cover map of Philadelphia, and the census tract shapefile. "
   ]
  },
  {
   "cell_type": "code",
   "execution_count": null,
   "id": "347d6a0d-8d42-435b-8150-bf1c6f6a3524",
   "metadata": {},
   "outputs": [],
   "source": []
  },
  {
   "cell_type": "markdown",
   "id": "778c6f53-49d7-42b7-9172-83698dfd1aa9",
   "metadata": {},
   "source": [
    "Import all the required modules"
   ]
  },
  {
   "cell_type": "code",
   "execution_count": 55,
   "id": "ce10c918-ebb3-4cf2-977a-07b4a8b75bc1",
   "metadata": {},
   "outputs": [],
   "source": [
    "import os, os.path\n",
    "import numpy as np\n",
    "import fiona\n",
    "import shapely\n",
    "from shapely.geometry import shape\n",
    "from shapely.geometry import Polygon\n",
    "import rasterio\n",
    "import rasterio.mask"
   ]
  },
  {
   "cell_type": "code",
   "execution_count": null,
   "id": "7d72f2e2-be63-4339-86d3-dcea33622655",
   "metadata": {},
   "outputs": [],
   "source": []
  },
  {
   "cell_type": "markdown",
   "id": "1477a37b-a991-46b5-a4be-b60f5df62235",
   "metadata": {},
   "source": [
    "### 1. Read the raster data information"
   ]
  },
  {
   "cell_type": "code",
   "execution_count": 56,
   "id": "b8b292d3-3819-43f7-be15-8563d2f69b78",
   "metadata": {},
   "outputs": [
    {
     "data": {
      "text/plain": [
       "BoundingBox(left=2660573.4998999997, bottom=204651.1693, right=2750113.4998999997, top=304943.1693)"
      ]
     },
     "execution_count": 56,
     "metadata": {},
     "output_type": "execute_result"
    }
   ],
   "source": [
    "landuse_file = r'lu_phily.tif'\n",
    "\n",
    "lu_dataset = rasterio.open(landuse_file)\n",
    "lu_bounds = lu_dataset.bounds\n",
    "lu_bounds"
   ]
  },
  {
   "cell_type": "code",
   "execution_count": null,
   "id": "2a0db324-3c83-4d1d-9241-1fc3c2a4259d",
   "metadata": {},
   "outputs": [],
   "source": []
  },
  {
   "cell_type": "markdown",
   "id": "763a1fdd-73b4-4dad-b215-2ab8176bcc9e",
   "metadata": {},
   "source": [
    "Check the metadata of the land use"
   ]
  },
  {
   "cell_type": "code",
   "execution_count": 57,
   "id": "6710342b-7321-4a87-8753-88cf2b98a65a",
   "metadata": {},
   "outputs": [
    {
     "data": {
      "text/plain": [
       "{'driver': 'GTiff',\n",
       " 'dtype': 'uint8',\n",
       " 'nodata': 255.0,\n",
       " 'width': 44770,\n",
       " 'height': 50146,\n",
       " 'count': 1,\n",
       " 'crs': CRS.from_epsg(2272),\n",
       " 'transform': Affine(2.0, 0.0, 2660573.4998999997,\n",
       "        0.0, -2.0, 304943.1693)}"
      ]
     },
     "execution_count": 57,
     "metadata": {},
     "output_type": "execute_result"
    }
   ],
   "source": [
    "lu_dataset.meta"
   ]
  },
  {
   "cell_type": "code",
   "execution_count": null,
   "id": "3637b646-d154-4f29-8532-2169e600a23a",
   "metadata": {},
   "outputs": [],
   "source": []
  },
  {
   "cell_type": "markdown",
   "id": "8e79e229-44e9-4e13-9432-7e3094fa34a0",
   "metadata": {},
   "source": [
    "Check the projection of the raster data"
   ]
  },
  {
   "cell_type": "code",
   "execution_count": 58,
   "id": "fdf93b6c-51d8-47aa-a1e7-84a5309ac572",
   "metadata": {},
   "outputs": [
    {
     "data": {
      "text/plain": [
       "(CRS.from_epsg(2272),\n",
       " 50146,\n",
       " 44770,\n",
       " Affine(2.0, 0.0, 2660573.4998999997,\n",
       "        0.0, -2.0, 304943.1693))"
      ]
     },
     "execution_count": 58,
     "metadata": {},
     "output_type": "execute_result"
    }
   ],
   "source": [
    "lu_dataset.crs, lu_dataset.height, lu_dataset.width, lu_dataset.transform"
   ]
  },
  {
   "cell_type": "code",
   "execution_count": null,
   "id": "741b9898-bcd6-4631-ba85-34177c1abdfe",
   "metadata": {},
   "outputs": [],
   "source": []
  },
  {
   "cell_type": "markdown",
   "id": "5b7bb79d-64c3-4e31-8fa1-76431315080d",
   "metadata": {},
   "source": [
    "### 2. Read the census tract polygons\n",
    "We are going to overlay the census tract polygons on the raster data. At begining, we need to read the polygon shapefile. "
   ]
  },
  {
   "cell_type": "code",
   "execution_count": 59,
   "id": "9f103ce4-549a-4fc4-9c74-e98dbccf03fb",
   "metadata": {},
   "outputs": [
    {
     "data": {
      "text/plain": [
       "{'driver': 'ESRI Shapefile',\n",
       " 'schema': {'properties': OrderedDict([('STATEFP', 'str:80'),\n",
       "               ('COUNTYFP', 'str:80'),\n",
       "               ('TRACTCE', 'str:80'),\n",
       "               ('GEOID', 'str:80'),\n",
       "               ('NAME_x', 'str:80'),\n",
       "               ('NAMELSAD', 'str:80'),\n",
       "               ('MTFCC', 'str:80'),\n",
       "               ('FUNCSTAT', 'str:80'),\n",
       "               ('ALAND', 'int:18'),\n",
       "               ('AWATER', 'int:18'),\n",
       "               ('INTPTLAT', 'str:80'),\n",
       "               ('INTPTLON', 'str:80'),\n",
       "               ('NAME_y', 'str:80'),\n",
       "               ('GEO_ID', 'str:80'),\n",
       "               ('white_popu', 'str:80'),\n",
       "               ('non-hispan', 'str:80'),\n",
       "               ('black_popu', 'str:80'),\n",
       "               ('asian_popu', 'str:80'),\n",
       "               ('hispanic_p', 'str:80'),\n",
       "               ('total_popu', 'str:80'),\n",
       "               ('median_hou', 'str:80'),\n",
       "               ('per_capita', 'str:80'),\n",
       "               ('built_age', 'str:80'),\n",
       "               ('less_highs', 'str:80'),\n",
       "               ('bachelor', 'str:80'),\n",
       "               ('totaleduca', 'str:80'),\n",
       "               ('male_und18', 'str:80'),\n",
       "               ('female_und', 'str:80'),\n",
       "               ('male65_66', 'str:80'),\n",
       "               ('male67_69', 'str:80'),\n",
       "               ('male70_74', 'str:80'),\n",
       "               ('male75_79', 'str:80'),\n",
       "               ('male80_84', 'str:80'),\n",
       "               ('male85_', 'str:80'),\n",
       "               ('fema_65_66', 'str:80'),\n",
       "               ('fema_67_69', 'str:80'),\n",
       "               ('fema70_74', 'str:80'),\n",
       "               ('fema75_79', 'str:80'),\n",
       "               ('fema80_84', 'str:80'),\n",
       "               ('fema85_', 'str:80'),\n",
       "               ('state', 'str:80'),\n",
       "               ('county', 'str:80'),\n",
       "               ('tract', 'str:80')]),\n",
       "  'geometry': 'Polygon'},\n",
       " 'crs': {'init': 'epsg:2272'},\n",
       " 'crs_wkt': 'PROJCS[\"NAD83 / Pennsylvania South (ftUS)\",GEOGCS[\"NAD83\",DATUM[\"North_American_Datum_1983\",SPHEROID[\"GRS 1980\",6378137,298.257222101,AUTHORITY[\"EPSG\",\"7019\"]],AUTHORITY[\"EPSG\",\"6269\"]],PRIMEM[\"Greenwich\",0,AUTHORITY[\"EPSG\",\"8901\"]],UNIT[\"degree\",0.0174532925199433,AUTHORITY[\"EPSG\",\"9122\"]],AUTHORITY[\"EPSG\",\"4269\"]],PROJECTION[\"Lambert_Conformal_Conic_2SP\"],PARAMETER[\"latitude_of_origin\",39.3333333333333],PARAMETER[\"central_meridian\",-77.75],PARAMETER[\"standard_parallel_1\",40.9666666666667],PARAMETER[\"standard_parallel_2\",39.9333333333333],PARAMETER[\"false_easting\",1968500],PARAMETER[\"false_northing\",0],UNIT[\"US survey foot\",0.304800609601219,AUTHORITY[\"EPSG\",\"9003\"]],AXIS[\"Easting\",EAST],AXIS[\"Northing\",NORTH],AUTHORITY[\"EPSG\",\"2272\"]]'}"
      ]
     },
     "execution_count": 59,
     "metadata": {},
     "output_type": "execute_result"
    }
   ],
   "source": [
    "layer = fiona.open('census-tract-data.shp')\n",
    "layer.meta"
   ]
  },
  {
   "cell_type": "code",
   "execution_count": null,
   "id": "30f06539-bab0-43f3-bf73-3dac92282b21",
   "metadata": {},
   "outputs": [],
   "source": []
  },
  {
   "cell_type": "code",
   "execution_count": 6,
   "id": "96993003-b6da-42f6-b49a-75f213fa547b",
   "metadata": {},
   "outputs": [],
   "source": [
    "for feat in layer:\n",
    "    geom = feat['geometry']\n",
    "    prop = feat['properties']\n",
    "    #print(geom)"
   ]
  },
  {
   "cell_type": "code",
   "execution_count": null,
   "id": "a2663329-8776-4676-bc1b-1e4d7e9697c6",
   "metadata": {},
   "outputs": [],
   "source": []
  },
  {
   "cell_type": "code",
   "execution_count": 7,
   "id": "6dfc6b73-8706-4ddb-b924-313386c7a35b",
   "metadata": {},
   "outputs": [
    {
     "data": {
      "image/svg+xml": [
       "<svg xmlns=\"http://www.w3.org/2000/svg\" xmlns:xlink=\"http://www.w3.org/1999/xlink\" width=\"300\" height=\"300\" viewBox=\"2721147.0851016412 266557.18039008375 3633.2204230274074 4164.53465435066\" preserveAspectRatio=\"xMinYMin meet\"><g transform=\"matrix(1,0,0,-1,0,537278.8954345181)\"><path fill-rule=\"evenodd\" fill=\"#66cc99\" stroke=\"#555555\" stroke-width=\"27.763564362337736\" opacity=\"0.6\" d=\"M 2721301.3271258767,268155.08773640945 L 2721478.3376927422,268386.0756604206 L 2721635.9377122046,268592.055170129 L 2721822.10216912,268834.9871792465 L 2721907.243314183,268945.8247873818 L 2721971.7888170057,269024.6919108001 L 2721985.529047248,269042.60452000634 L 2722341.6151070553,269509.39324794937 L 2722469.0006342903,269676.91832617164 L 2722512.000289679,269736.54259708826 L 2722626.76568485,269895.3011242054 L 2722673.953320586,269964.5292671306 L 2722764.027946632,270097.0233493565 L 2722947.75273778,270345.7213630785 L 2723120.2519587926,270567.4730201992 L 2723127.392657482,270562.95316980913 L 2723184.864902198,270524.6183055669 L 2723456.119902337,270328.4449081871 L 2723709.5516535016,270156.5125374839 L 2723731.219228403,270134.94301178225 L 2723939.6478238734,269987.51388449396 L 2724163.5584488525,269828.5328490256 L 2724626.063500433,269507.01685309573 L 2724603.670699001,269478.9977490002 L 2724473.57325659,269281.49312951515 L 2724340.8435397716,269087.5532986169 L 2724199.7475725287,268883.15374399663 L 2724038.1679167715,268643.1413683296 L 2723958.810425897,268526.6417029345 L 2723882.688202231,268414.250181627 L 2723723.4207951766,268180.8708933197 L 2723555.0683003473,267933.00151918095 L 2723475.559690328,267812.12550368154 L 2723404.550446851,267706.4519338467 L 2723865.4723224076,267391.79718369024 L 2723717.4855008265,267174.06995334045 L 2723570.8954236973,266956.3863637197 L 2723557.3904596986,266939.9378796248 L 2723484.799592338,266830.93576877407 L 2723417.259077094,266730.8350098359 L 2723402.1635043994,266711.42241431895 L 2722935.1559354975,267023.3490447833 L 2722472.7293526605,267341.6195821553 L 2722009.9214172494,267654.420006693 L 2721638.380537769,267905.1371227952 L 2721548.95120294,267971.65816756454 L 2721445.1710691876,268040.293504189 L 2721334.9791911696,268117.11635959294 L 2721301.3271258767,268155.08773640945 z\" /></g></svg>"
      ],
      "text/plain": [
       "<POLYGON ((2.72e+06 2.68e+05, 2.72e+06 2.68e+05, 2.72e+06 2.69e+05, 2.72e+06...>"
      ]
     },
     "execution_count": 7,
     "metadata": {},
     "output_type": "execute_result"
    }
   ],
   "source": [
    "shape(geom)"
   ]
  },
  {
   "cell_type": "code",
   "execution_count": null,
   "id": "974a7b03-62e3-42e2-8966-674aa26b0df2",
   "metadata": {},
   "outputs": [],
   "source": []
  },
  {
   "cell_type": "markdown",
   "id": "f058bfaa-0cd5-46fc-8989-d25a22cd27aa",
   "metadata": {},
   "source": [
    "### 3. Overlay the polygon on the raster"
   ]
  },
  {
   "cell_type": "code",
   "execution_count": 60,
   "id": "a6f12262-2dfb-420f-93c9-5385abbd8f90",
   "metadata": {},
   "outputs": [],
   "source": [
    "for idx, feat in enumerate(layer):\n",
    "    print(\"you are reaching idx\", idx)\n",
    "    props = feat['properties']\n",
    "    geom = feat['geometry']\n",
    "    shape = [geom] # the rasterio need the list, therefore, create a list\n",
    "    \n",
    "    # mask the raster using the polygon\n",
    "    out_lu_image, out_transform = rasterio.mask.mask(lu_dataset, shape, crop=True)\n",
    "    \n",
    "    # if idx > 10: break\n",
    "    "
   ]
  },
  {
   "cell_type": "code",
   "execution_count": null,
   "id": "2ce70f1b-82f8-448e-86b1-8eabbc64762e",
   "metadata": {},
   "outputs": [],
   "source": []
  },
  {
   "cell_type": "markdown",
   "id": "6f38803a-3296-41b2-a078-a76d49af240d",
   "metadata": {},
   "source": [
    "#### In the land use encoding, the 1 encodes tree canopy, 2 encodes grass, 5 encodes buildings"
   ]
  },
  {
   "cell_type": "code",
   "execution_count": 18,
   "id": "925de74f-ae6a-42d5-bfef-b3ad88cfaaa5",
   "metadata": {},
   "outputs": [
    {
     "data": {
      "text/plain": [
       "<matplotlib.image.AxesImage at 0x16c5213c0>"
      ]
     },
     "execution_count": 18,
     "metadata": {},
     "output_type": "execute_result"
    },
    {
     "data": {
      "image/png": "[encoded data removed]",
      "text/plain": [
       "<Figure size 640x480 with 1 Axes>"
      ]
     },
     "metadata": {},
     "output_type": "display_data"
    }
   ],
   "source": [
    "from matplotlib import pyplot as plt\n",
    "\n",
    "plt.imshow(out_lu_image[0,:,:]==5)"
   ]
  },
  {
   "cell_type": "code",
   "execution_count": null,
   "id": "9649c11f-821d-4e6b-9118-2e13544ec987",
   "metadata": {},
   "outputs": [],
   "source": []
  },
  {
   "cell_type": "code",
   "execution_count": 19,
   "id": "6fa8d9d8-7f2f-4647-9676-ef26d1b8ae5b",
   "metadata": {},
   "outputs": [
    {
     "data": {
      "text/plain": [
       "<matplotlib.image.AxesImage at 0x16c5acd60>"
      ]
     },
     "execution_count": 19,
     "metadata": {},
     "output_type": "execute_result"
    },
    {
     "data": {
      "image/png": "[encoded data removed]",
      "text/plain": [
       "<Figure size 640x480 with 1 Axes>"
      ]
     },
     "metadata": {},
     "output_type": "display_data"
    }
   ],
   "source": [
    "from matplotlib import pyplot as plt\n",
    "\n",
    "plt.imshow(out_lu_image[0,:,:]==1)"
   ]
  },
  {
   "cell_type": "code",
   "execution_count": 70,
   "id": "ab8af087-9d3a-4fe6-9058-be6045606059",
   "metadata": {},
   "outputs": [],
   "source": []
  },
  {
   "cell_type": "markdown",
   "id": "365f89de-858f-4613-858b-fb1b8daa1e87",
   "metadata": {},
   "source": [
    "#### We can calculate the tree canopy cover"
   ]
  },
  {
   "cell_type": "code",
   "execution_count": 30,
   "id": "81d8a031-aa19-40b5-a1f8-4d29675e3315",
   "metadata": {},
   "outputs": [
    {
     "data": {
      "text/plain": [
       "4.786693785822099"
      ]
     },
     "execution_count": 30,
     "metadata": {},
     "output_type": "execute_result"
    }
   ],
   "source": [
    "# total number of 1 pixels\n",
    "tree_pxls = np.sum(out_lu_image[0,:,:]==1)\n",
    "\n",
    "# the total number of pixel for this polygon\n",
    "total_pxls = np.sum(out_lu_image[0, :, :] != 255)\n",
    "\n",
    "vegcover = tree_pxls/total_pxls*100 #the percentage of tree cover\n",
    "vegcover"
   ]
  },
  {
   "cell_type": "code",
   "execution_count": null,
   "id": "11a36e50-6f70-45b2-95e9-186b102cc536",
   "metadata": {},
   "outputs": [],
   "source": []
  },
  {
   "cell_type": "markdown",
   "id": "bc0a7b1a-5f05-4335-8c82-02203e189bf5",
   "metadata": {},
   "source": [
    "### 4. Zonal statistics overlay vector on raster image\n",
    "\n",
    "We are going to overlay of the census tract data on the raster land use map. Therefore, we can calculate the percentage of the tree canopy cover map at the census tract level. "
   ]
  },
  {
   "cell_type": "code",
   "execution_count": 61,
   "id": "623f8e62-ca49-4c4e-bd3d-d9cc03485117",
   "metadata": {},
   "outputs": [],
   "source": [
    "output_shp_res = 'tree-canopy-cover.shp'\n",
    "schema = layer.schema.copy()\n",
    "schema['properties']['treecover'] = 'float'\n",
    "\n",
    "with fiona.open(output_shp_res, 'w', driver = \"ESRI Shapefile\", crs = layer.crs, schema=schema) as output:\n",
    "    for idx, feat in enumerate(layer):\n",
    "        print('you are reaching:', idx)\n",
    "        props = feat['properties']\n",
    "        geom = feat['geometry']\n",
    "        shape = [geom] # the rasterio need the list, therefore, create a list\n",
    "        \n",
    "        # mask the raster using the polygon\n",
    "        out_lu_image, out_transform = rasterio.mask.mask(lu_dataset, shape, crop=True)\n",
    "        \n",
    "        # total number of 1 pixels\n",
    "        tree_pxls = np.sum(out_lu_image[0,:,:]==1)\n",
    "        \n",
    "        # the total number of pixel for this polygon\n",
    "        total_pxls = np.sum(out_lu_image[0, :, :] != 255)\n",
    "        \n",
    "        vegcover = tree_pxls/total_pxls*100 #the percentage of tree cover\n",
    "        \n",
    "        # update the calculate ndvi value to the field\n",
    "        props['treecover'] = vegcover\n",
    "        output.write({'properties': props,\n",
    "                      'geometry': geom\n",
    "                     })\n",
    "        "
   ]
  },
  {
   "cell_type": "code",
   "execution_count": null,
   "id": "95fa4210-4337-423f-b969-314411a5e590",
   "metadata": {},
   "outputs": [],
   "source": []
  },
  {
   "cell_type": "markdown",
   "id": "3b4c3731-63ae-40c8-925b-d7ad3d9487ed",
   "metadata": {},
   "source": [
    "### 5. Conduct the socio-environmental analysis\n",
    "We have the shapefile created. It is easier to use GeoPandas to conduct the socio-environmental analysi. "
   ]
  },
  {
   "cell_type": "code",
   "execution_count": 37,
   "id": "6b542fe2-327c-4a69-a34c-4d0a735b8d37",
   "metadata": {},
   "outputs": [],
   "source": [
    "import geopandas as gpd\n",
    "import pandas as pd\n",
    "from matplotlib import pyplot as plt\n",
    "\n",
    "output_shp_res = 'tree-canopy-cover.shp'\n",
    "\n",
    "df = gpd.read_file(output_shp_res)"
   ]
  },
  {
   "cell_type": "code",
   "execution_count": 38,
   "id": "b7ff7f02-022c-4d76-932e-ea47c40f6447",
   "metadata": {},
   "outputs": [
    {
     "data": {
      "text/html": [
       "<div>\n",
       "<style scoped>\n",
       "    .dataframe tbody tr th:only-of-type {\n",
       "        vertical-align: middle;\n",
       "    }\n",
       "\n",
       "    .dataframe tbody tr th {\n",
       "        vertical-align: top;\n",
       "    }\n",
       "\n",
       "    .dataframe thead th {\n",
       "        text-align: right;\n",
       "    }\n",
       "</style>\n",
       "<table border=\"1\" class=\"dataframe\">\n",
       "  <thead>\n",
       "    <tr style=\"text-align: right;\">\n",
       "      <th></th>\n",
       "      <th>STATEFP</th>\n",
       "      <th>COUNTYFP</th>\n",
       "      <th>TRACTCE</th>\n",
       "      <th>GEOID</th>\n",
       "      <th>NAME_x</th>\n",
       "      <th>NAMELSAD</th>\n",
       "      <th>MTFCC</th>\n",
       "      <th>FUNCSTAT</th>\n",
       "      <th>ALAND</th>\n",
       "      <th>AWATER</th>\n",
       "      <th>...</th>\n",
       "      <th>fema_67_69</th>\n",
       "      <th>fema70_74</th>\n",
       "      <th>fema75_79</th>\n",
       "      <th>fema80_84</th>\n",
       "      <th>fema85_</th>\n",
       "      <th>state</th>\n",
       "      <th>county</th>\n",
       "      <th>tract</th>\n",
       "      <th>treecover</th>\n",
       "      <th>geometry</th>\n",
       "    </tr>\n",
       "  </thead>\n",
       "  <tbody>\n",
       "    <tr>\n",
       "      <th>0</th>\n",
       "      <td>42</td>\n",
       "      <td>101</td>\n",
       "      <td>014500</td>\n",
       "      <td>42101014500</td>\n",
       "      <td>145</td>\n",
       "      <td>Census Tract 145</td>\n",
       "      <td>G5020</td>\n",
       "      <td>S</td>\n",
       "      <td>321465</td>\n",
       "      <td>0</td>\n",
       "      <td>...</td>\n",
       "      <td>46</td>\n",
       "      <td>33</td>\n",
       "      <td>7</td>\n",
       "      <td>17</td>\n",
       "      <td>28</td>\n",
       "      <td>42</td>\n",
       "      <td>101</td>\n",
       "      <td>014500</td>\n",
       "      <td>8.073224</td>\n",
       "      <td>POLYGON ((2696627.315 244448.120, 2696698.907 ...</td>\n",
       "    </tr>\n",
       "    <tr>\n",
       "      <th>1</th>\n",
       "      <td>42</td>\n",
       "      <td>101</td>\n",
       "      <td>031200</td>\n",
       "      <td>42101031200</td>\n",
       "      <td>312</td>\n",
       "      <td>Census Tract 312</td>\n",
       "      <td>G5020</td>\n",
       "      <td>S</td>\n",
       "      <td>429735</td>\n",
       "      <td>0</td>\n",
       "      <td>...</td>\n",
       "      <td>63</td>\n",
       "      <td>202</td>\n",
       "      <td>48</td>\n",
       "      <td>0</td>\n",
       "      <td>11</td>\n",
       "      <td>42</td>\n",
       "      <td>101</td>\n",
       "      <td>031200</td>\n",
       "      <td>8.264088</td>\n",
       "      <td>POLYGON ((2714890.709 265894.603, 2714931.049 ...</td>\n",
       "    </tr>\n",
       "    <tr>\n",
       "      <th>2</th>\n",
       "      <td>42</td>\n",
       "      <td>101</td>\n",
       "      <td>021800</td>\n",
       "      <td>42101021800</td>\n",
       "      <td>218</td>\n",
       "      <td>Census Tract 218</td>\n",
       "      <td>G5020</td>\n",
       "      <td>S</td>\n",
       "      <td>1006008</td>\n",
       "      <td>0</td>\n",
       "      <td>...</td>\n",
       "      <td>84</td>\n",
       "      <td>55</td>\n",
       "      <td>98</td>\n",
       "      <td>27</td>\n",
       "      <td>17</td>\n",
       "      <td>42</td>\n",
       "      <td>101</td>\n",
       "      <td>021800</td>\n",
       "      <td>29.965782</td>\n",
       "      <td>POLYGON ((2671526.636 274669.516, 2672033.151 ...</td>\n",
       "    </tr>\n",
       "    <tr>\n",
       "      <th>3</th>\n",
       "      <td>42</td>\n",
       "      <td>101</td>\n",
       "      <td>009100</td>\n",
       "      <td>42101009100</td>\n",
       "      <td>91</td>\n",
       "      <td>Census Tract 91</td>\n",
       "      <td>G5020</td>\n",
       "      <td>S</td>\n",
       "      <td>425574</td>\n",
       "      <td>0</td>\n",
       "      <td>...</td>\n",
       "      <td>33</td>\n",
       "      <td>131</td>\n",
       "      <td>42</td>\n",
       "      <td>42</td>\n",
       "      <td>53</td>\n",
       "      <td>42</td>\n",
       "      <td>101</td>\n",
       "      <td>009100</td>\n",
       "      <td>14.903659</td>\n",
       "      <td>POLYGON ((2682586.599 239186.067, 2682814.771 ...</td>\n",
       "    </tr>\n",
       "    <tr>\n",
       "      <th>4</th>\n",
       "      <td>42</td>\n",
       "      <td>101</td>\n",
       "      <td>033600</td>\n",
       "      <td>42101033600</td>\n",
       "      <td>336</td>\n",
       "      <td>Census Tract 336</td>\n",
       "      <td>G5020</td>\n",
       "      <td>S</td>\n",
       "      <td>1153477</td>\n",
       "      <td>0</td>\n",
       "      <td>...</td>\n",
       "      <td>86</td>\n",
       "      <td>80</td>\n",
       "      <td>28</td>\n",
       "      <td>72</td>\n",
       "      <td>48</td>\n",
       "      <td>42</td>\n",
       "      <td>101</td>\n",
       "      <td>033600</td>\n",
       "      <td>12.415315</td>\n",
       "      <td>POLYGON ((2719080.860 276412.719, 2719388.820 ...</td>\n",
       "    </tr>\n",
       "  </tbody>\n",
       "</table>\n",
       "<p>5 rows × 45 columns</p>\n",
       "</div>"
      ],
      "text/plain": [
       "  STATEFP COUNTYFP TRACTCE        GEOID NAME_x          NAMELSAD  MTFCC  \\\n",
       "0      42      101  014500  42101014500    145  Census Tract 145  G5020   \n",
       "1      42      101  031200  42101031200    312  Census Tract 312  G5020   \n",
       "2      42      101  021800  42101021800    218  Census Tract 218  G5020   \n",
       "3      42      101  009100  42101009100     91   Census Tract 91  G5020   \n",
       "4      42      101  033600  42101033600    336  Census Tract 336  G5020   \n",
       "\n",
       "  FUNCSTAT    ALAND  AWATER  ... fema_67_69 fema70_74 fema75_79 fema80_84  \\\n",
       "0        S   321465       0  ...         46        33         7        17   \n",
       "1        S   429735       0  ...         63       202        48         0   \n",
       "2        S  1006008       0  ...         84        55        98        27   \n",
       "3        S   425574       0  ...         33       131        42        42   \n",
       "4        S  1153477       0  ...         86        80        28        72   \n",
       "\n",
       "  fema85_ state county   tract  treecover  \\\n",
       "0      28    42    101  014500   8.073224   \n",
       "1      11    42    101  031200   8.264088   \n",
       "2      17    42    101  021800  29.965782   \n",
       "3      53    42    101  009100  14.903659   \n",
       "4      48    42    101  033600  12.415315   \n",
       "\n",
       "                                            geometry  \n",
       "0  POLYGON ((2696627.315 244448.120, 2696698.907 ...  \n",
       "1  POLYGON ((2714890.709 265894.603, 2714931.049 ...  \n",
       "2  POLYGON ((2671526.636 274669.516, 2672033.151 ...  \n",
       "3  POLYGON ((2682586.599 239186.067, 2682814.771 ...  \n",
       "4  POLYGON ((2719080.860 276412.719, 2719388.820 ...  \n",
       "\n",
       "[5 rows x 45 columns]"
      ]
     },
     "execution_count": 38,
     "metadata": {},
     "output_type": "execute_result"
    }
   ],
   "source": [
    "df.head()"
   ]
  },
  {
   "cell_type": "code",
   "execution_count": 39,
   "id": "ac8aa6a9-9a55-490f-a7cc-f6fb27c79f57",
   "metadata": {},
   "outputs": [
    {
     "data": {
      "text/plain": [
       "Index(['STATEFP', 'COUNTYFP', 'TRACTCE', 'GEOID', 'NAME_x', 'NAMELSAD',\n",
       "       'MTFCC', 'FUNCSTAT', 'ALAND', 'AWATER', 'INTPTLAT', 'INTPTLON',\n",
       "       'NAME_y', 'GEO_ID', 'white_popu', 'non-hispan', 'black_popu',\n",
       "       'asian_popu', 'hispanic_p', 'total_popu', 'median_hou', 'per_capita',\n",
       "       'built_age', 'less_highs', 'bachelor', 'totaleduca', 'male_und18',\n",
       "       'female_und', 'male65_66', 'male67_69', 'male70_74', 'male75_79',\n",
       "       'male80_84', 'male85_', 'fema_65_66', 'fema_67_69', 'fema70_74',\n",
       "       'fema75_79', 'fema80_84', 'fema85_', 'state', 'county', 'tract',\n",
       "       'treecover', 'geometry'],\n",
       "      dtype='object')"
      ]
     },
     "execution_count": 39,
     "metadata": {},
     "output_type": "execute_result"
    }
   ],
   "source": [
    "df.columns"
   ]
  },
  {
   "cell_type": "code",
   "execution_count": null,
   "id": "207dc7ad-bafc-463a-9133-0a31cab72588",
   "metadata": {},
   "outputs": [],
   "source": []
  },
  {
   "cell_type": "code",
   "execution_count": 40,
   "id": "60e03d93-6844-483f-bd6d-98cca8b9f4e4",
   "metadata": {},
   "outputs": [],
   "source": [
    "\n",
    "vegshp = 'tree-canopy-cover.shp'\n",
    "vegdf = gpd.read_file(vegshp)\n",
    "\n",
    "# calculate the values of different socio-economic variables\n",
    "vegdf['income'] = pd.to_numeric(vegdf['per_capita'])/1000\n",
    "# mrtdf['houseIncome'] = pd.to_numeric(mrtdf['median_hou'])\n",
    "\n",
    "vegdf['perHis'] = pd.to_numeric(vegdf['hispanic_p'])/pd.to_numeric(vegdf['total_popu'])\n",
    "vegdf['nonHispan'] = pd.to_numeric(vegdf['non-hispan'])/pd.to_numeric(vegdf['total_popu'])\n",
    "vegdf['black'] = pd.to_numeric(vegdf['black_popu'])/pd.to_numeric(vegdf['total_popu'])\n",
    "vegdf['asian'] = pd.to_numeric(vegdf['asian_popu'])/pd.to_numeric(vegdf['total_popu'])\n",
    "vegdf['und18'] = (pd.to_numeric(vegdf['male_und18']) + pd.to_numeric(vegdf['female_und']))/pd.to_numeric(vegdf['total_popu'])\n",
    "vegdf['highschol'] = pd.to_numeric(vegdf['less_highs'])/pd.to_numeric(vegdf['total_popu'])\n",
    "vegdf['bachelor'] = pd.to_numeric(vegdf['bachelor'])/pd.to_numeric(vegdf['total_popu'])\n",
    "\n",
    "vegdf['old65'] = (pd.to_numeric(vegdf['male65_66']) + \\\n",
    "                  pd.to_numeric(vegdf['male67_69']) + \\\n",
    "                  pd.to_numeric(vegdf['male70_74']) + \\\n",
    "                  pd.to_numeric(vegdf['male75_79']) + \\\n",
    "                  pd.to_numeric(vegdf['male80_84']) + \\\n",
    "                  pd.to_numeric(vegdf['male85_']) + \\\n",
    "                  pd.to_numeric(vegdf['fema_65_66']) + \\\n",
    "                  pd.to_numeric(vegdf['fema_67_69']) + \\\n",
    "                  pd.to_numeric(vegdf['fema70_74']) + \\\n",
    "                  pd.to_numeric(vegdf['fema75_79']) + \\\n",
    "                  pd.to_numeric(vegdf['fema80_84']) + \\\n",
    "                  pd.to_numeric(vegdf['fema85_'])) \\\n",
    "                  /pd.to_numeric(vegdf['total_popu'])\n"
   ]
  },
  {
   "cell_type": "code",
   "execution_count": 41,
   "id": "417dcba1-d150-4535-9d41-e3396e04bd3d",
   "metadata": {},
   "outputs": [
    {
     "data": {
      "text/plain": [
       "0      16.495\n",
       "1      18.531\n",
       "2      32.183\n",
       "3      26.835\n",
       "4      23.496\n",
       "        ...  \n",
       "379    28.052\n",
       "380    13.556\n",
       "381    98.619\n",
       "382    16.646\n",
       "383    18.873\n",
       "Name: income, Length: 384, dtype: float64"
      ]
     },
     "execution_count": 41,
     "metadata": {},
     "output_type": "execute_result"
    }
   ],
   "source": [
    "vegdf['income']"
   ]
  },
  {
   "cell_type": "code",
   "execution_count": 43,
   "id": "c55f7845-c20e-4f3e-be44-bca65c9e8af3",
   "metadata": {},
   "outputs": [
    {
     "data": {
      "text/plain": [
       "0       8.073224\n",
       "1       8.264088\n",
       "2      29.965782\n",
       "3      14.903659\n",
       "4      12.415315\n",
       "         ...    \n",
       "379    20.588155\n",
       "380     6.540126\n",
       "381    23.792479\n",
       "382    14.405313\n",
       "383     4.786694\n",
       "Name: treecover, Length: 384, dtype: float64"
      ]
     },
     "execution_count": 43,
     "metadata": {},
     "output_type": "execute_result"
    }
   ],
   "source": [
    "vegdf['treecover']"
   ]
  },
  {
   "cell_type": "code",
   "execution_count": null,
   "id": "a40a4aa1-3311-444b-8d28-6c5747df7eb4",
   "metadata": {},
   "outputs": [],
   "source": []
  },
  {
   "cell_type": "markdown",
   "id": "134d4932-e3d0-42da-8e0d-88d3eda032ab",
   "metadata": {},
   "source": [
    "##### Calculate the correlation coefficient"
   ]
  },
  {
   "cell_type": "code",
   "execution_count": 44,
   "id": "fe3bbe4a-b9a0-437d-b760-d85007c75841",
   "metadata": {},
   "outputs": [
    {
     "name": "stderr",
     "output_type": "stream",
     "text": [
      "/var/folders/1j/rxctbd0d60l078ctybj6ktrr673nl9/T/ipykernel_71629/2001258105.py:3: DeprecationWarning: Please use `pearsonr` from the `scipy.stats` namespace, the `scipy.stats.stats` namespace is deprecated.\n",
      "  from scipy.stats.stats import pearsonr\n"
     ]
    },
    {
     "data": {
      "text/plain": [
       "PearsonRResult(statistic=0.020743342247260297, pvalue=0.6853281115765543)"
      ]
     },
     "execution_count": 44,
     "metadata": {},
     "output_type": "execute_result"
    }
   ],
   "source": [
    "#build the plot\n",
    "import seaborn as sns\n",
    "from scipy.stats.stats import pearsonr\n",
    "\n",
    "pearsonr(vegdf['income'], vegdf['treecover'])\n"
   ]
  },
  {
   "cell_type": "code",
   "execution_count": null,
   "id": "56ac8b23-6613-4331-b403-1e4e2c70ee29",
   "metadata": {},
   "outputs": [],
   "source": []
  },
  {
   "cell_type": "markdown",
   "id": "a7de1b5f-b18e-4d34-9a3c-a06c11ac66b7",
   "metadata": {},
   "source": [
    "You may find this is different from common sense. Let further plot the scatter plot and see if there is any problem. "
   ]
  },
  {
   "cell_type": "code",
   "execution_count": 45,
   "id": "590f529b-dc71-4950-9995-e9a91776f0a3",
   "metadata": {},
   "outputs": [
    {
     "data": {
      "text/plain": [
       "<matplotlib.collections.PathCollection at 0x299d72440>"
      ]
     },
     "execution_count": 45,
     "metadata": {},
     "output_type": "execute_result"
    },
    {
     "data": {
      "image/png": "[encoded data removed]",
      "text/plain": [
       "<Figure size 640x480 with 1 Axes>"
      ]
     },
     "metadata": {},
     "output_type": "display_data"
    }
   ],
   "source": [
    "plt.scatter(vegdf['income'], vegdf['treecover'])"
   ]
  },
  {
   "cell_type": "code",
   "execution_count": null,
   "id": "090dc9fe-b7c5-427f-a295-e76e313d2b95",
   "metadata": {},
   "outputs": [],
   "source": []
  },
  {
   "cell_type": "markdown",
   "id": "fb11fbae-9fc1-4e4d-a121-af9cf6f546ac",
   "metadata": {},
   "source": [
    "There are some abnormal records. We can check the minimum value of the income. "
   ]
  },
  {
   "cell_type": "code",
   "execution_count": 46,
   "id": "1a74cbae-13dd-4399-9aa8-8ce4d6db9fdb",
   "metadata": {},
   "outputs": [
    {
     "data": {
      "text/plain": [
       "-666666.666"
      ]
     },
     "execution_count": 46,
     "metadata": {},
     "output_type": "execute_result"
    }
   ],
   "source": [
    "vegdf['income'].min()"
   ]
  },
  {
   "cell_type": "code",
   "execution_count": null,
   "id": "6c3ba37a-e3fb-497e-aef4-8f8d46a84594",
   "metadata": {},
   "outputs": [],
   "source": []
  },
  {
   "cell_type": "markdown",
   "id": "334862be-0b74-4e4d-9782-72f048773611",
   "metadata": {},
   "source": [
    "This is because some census tracts have no income data, and set as null -666666.666. We can drop those records. "
   ]
  },
  {
   "cell_type": "code",
   "execution_count": 47,
   "id": "f4563427-89d6-4b03-91b8-809dee0872ce",
   "metadata": {},
   "outputs": [],
   "source": [
    "vegdf_valid = vegdf[vegdf['income'] > 0]\n"
   ]
  },
  {
   "cell_type": "code",
   "execution_count": 48,
   "id": "4001609f-bd67-4c3d-aaf3-0ac3c99043e5",
   "metadata": {},
   "outputs": [
    {
     "data": {
      "text/plain": [
       "5.514"
      ]
     },
     "execution_count": 48,
     "metadata": {},
     "output_type": "execute_result"
    }
   ],
   "source": [
    "vegdf_valid['income'].min()"
   ]
  },
  {
   "cell_type": "code",
   "execution_count": null,
   "id": "5ba71e97-8b33-4dc4-9302-5dd8401117c2",
   "metadata": {},
   "outputs": [],
   "source": []
  },
  {
   "cell_type": "code",
   "execution_count": 49,
   "id": "2652dfba-bde6-4505-83c6-3f1179710cd6",
   "metadata": {},
   "outputs": [
    {
     "data": {
      "text/plain": [
       "PearsonRResult(statistic=0.21659317904721898, pvalue=2.2722662202124753e-05)"
      ]
     },
     "execution_count": 49,
     "metadata": {},
     "output_type": "execute_result"
    }
   ],
   "source": [
    "pearsonr(vegdf_valid['income'], vegdf_valid['treecover'])\n"
   ]
  },
  {
   "cell_type": "code",
   "execution_count": null,
   "id": "e58eb245-4e79-4026-a4f1-a355dd2e9491",
   "metadata": {},
   "outputs": [],
   "source": []
  },
  {
   "cell_type": "code",
   "execution_count": 50,
   "id": "456668de-53c5-4775-b966-a1626353f35b",
   "metadata": {},
   "outputs": [
    {
     "data": {
      "text/plain": [
       "<matplotlib.collections.PathCollection at 0x2c13a15d0>"
      ]
     },
     "execution_count": 50,
     "metadata": {},
     "output_type": "execute_result"
    },
    {
     "data": {
      "image/png": "[encoded data removed]",
      "text/plain": [
       "<Figure size 640x480 with 1 Axes>"
      ]
     },
     "metadata": {},
     "output_type": "display_data"
    }
   ],
   "source": [
    "plt.scatter(vegdf_valid['income'], vegdf_valid['treecover'])"
   ]
  },
  {
   "cell_type": "code",
   "execution_count": null,
   "id": "99386f5f-33ef-4b94-8dce-de042076526e",
   "metadata": {},
   "outputs": [],
   "source": []
  },
  {
   "cell_type": "code",
   "execution_count": 51,
   "id": "8bdf71f7-78ca-4fe0-9ba3-298978b7f21e",
   "metadata": {},
   "outputs": [
    {
     "data": {
      "image/png": "[encoded data removed]",
      "text/plain": [
       "<Figure size 640x480 with 1 Axes>"
      ]
     },
     "metadata": {},
     "output_type": "display_data"
    }
   ],
   "source": [
    "plot = sns.regplot(data=vegdf_valid, x=\"income\", y=\"treecover\")"
   ]
  },
  {
   "cell_type": "code",
   "execution_count": null,
   "id": "7346e950-e84c-40bd-be1b-ec48fb4dc79e",
   "metadata": {},
   "outputs": [],
   "source": []
  },
  {
   "cell_type": "markdown",
   "id": "4ced6d3a-a3d6-41fe-b3d9-c074ba772161",
   "metadata": {},
   "source": [
    "We can estimate the correlation coefficient metrix of all variables"
   ]
  },
  {
   "cell_type": "code",
   "execution_count": 52,
   "id": "8ee35f1c-5a57-4a38-a82f-77380f22e0bf",
   "metadata": {},
   "outputs": [
    {
     "name": "stderr",
     "output_type": "stream",
     "text": [
      "/var/folders/1j/rxctbd0d60l078ctybj6ktrr673nl9/T/ipykernel_71629/1431320366.py:2: FutureWarning: The default value of numeric_only in GeoDataFrame.corr is deprecated. In a future version, it will default to False. Select only valid columns or specify the value of numeric_only to silence this warning.\n",
      "  vegdf_valid2.corr()\n"
     ]
    },
    {
     "data": {
      "text/html": [
       "<div>\n",
       "<style scoped>\n",
       "    .dataframe tbody tr th:only-of-type {\n",
       "        vertical-align: middle;\n",
       "    }\n",
       "\n",
       "    .dataframe tbody tr th {\n",
       "        vertical-align: top;\n",
       "    }\n",
       "\n",
       "    .dataframe thead th {\n",
       "        text-align: right;\n",
       "    }\n",
       "</style>\n",
       "<table border=\"1\" class=\"dataframe\">\n",
       "  <thead>\n",
       "    <tr style=\"text-align: right;\">\n",
       "      <th></th>\n",
       "      <th>bachelor</th>\n",
       "      <th>treecover</th>\n",
       "      <th>income</th>\n",
       "      <th>perHis</th>\n",
       "      <th>nonHispan</th>\n",
       "      <th>black</th>\n",
       "      <th>asian</th>\n",
       "      <th>und18</th>\n",
       "      <th>highschol</th>\n",
       "      <th>old65</th>\n",
       "    </tr>\n",
       "  </thead>\n",
       "  <tbody>\n",
       "    <tr>\n",
       "      <th>bachelor</th>\n",
       "      <td>1.000000</td>\n",
       "      <td>0.195763</td>\n",
       "      <td>0.873035</td>\n",
       "      <td>-0.331214</td>\n",
       "      <td>0.654567</td>\n",
       "      <td>-0.510129</td>\n",
       "      <td>0.236205</td>\n",
       "      <td>-0.667244</td>\n",
       "      <td>-0.575064</td>\n",
       "      <td>0.252973</td>\n",
       "    </tr>\n",
       "    <tr>\n",
       "      <th>treecover</th>\n",
       "      <td>0.195763</td>\n",
       "      <td>1.000000</td>\n",
       "      <td>0.216593</td>\n",
       "      <td>-0.229432</td>\n",
       "      <td>0.226108</td>\n",
       "      <td>-0.078759</td>\n",
       "      <td>-0.111479</td>\n",
       "      <td>-0.166435</td>\n",
       "      <td>-0.348920</td>\n",
       "      <td>0.443010</td>\n",
       "    </tr>\n",
       "    <tr>\n",
       "      <th>income</th>\n",
       "      <td>0.873035</td>\n",
       "      <td>0.216593</td>\n",
       "      <td>1.000000</td>\n",
       "      <td>-0.306151</td>\n",
       "      <td>0.665329</td>\n",
       "      <td>-0.494144</td>\n",
       "      <td>0.100490</td>\n",
       "      <td>-0.584707</td>\n",
       "      <td>-0.595648</td>\n",
       "      <td>0.316897</td>\n",
       "    </tr>\n",
       "    <tr>\n",
       "      <th>perHis</th>\n",
       "      <td>-0.331214</td>\n",
       "      <td>-0.229432</td>\n",
       "      <td>-0.306151</td>\n",
       "      <td>1.000000</td>\n",
       "      <td>-0.217932</td>\n",
       "      <td>-0.252085</td>\n",
       "      <td>-0.031125</td>\n",
       "      <td>0.422030</td>\n",
       "      <td>0.610071</td>\n",
       "      <td>-0.350514</td>\n",
       "    </tr>\n",
       "    <tr>\n",
       "      <th>nonHispan</th>\n",
       "      <td>0.654567</td>\n",
       "      <td>0.226108</td>\n",
       "      <td>0.665329</td>\n",
       "      <td>-0.217932</td>\n",
       "      <td>1.000000</td>\n",
       "      <td>-0.851676</td>\n",
       "      <td>0.174924</td>\n",
       "      <td>-0.510471</td>\n",
       "      <td>-0.503530</td>\n",
       "      <td>0.254343</td>\n",
       "    </tr>\n",
       "    <tr>\n",
       "      <th>black</th>\n",
       "      <td>-0.510129</td>\n",
       "      <td>-0.078759</td>\n",
       "      <td>-0.494144</td>\n",
       "      <td>-0.252085</td>\n",
       "      <td>-0.851676</td>\n",
       "      <td>1.000000</td>\n",
       "      <td>-0.409225</td>\n",
       "      <td>0.349540</td>\n",
       "      <td>0.163000</td>\n",
       "      <td>-0.039428</td>\n",
       "    </tr>\n",
       "    <tr>\n",
       "      <th>asian</th>\n",
       "      <td>0.236205</td>\n",
       "      <td>-0.111479</td>\n",
       "      <td>0.100490</td>\n",
       "      <td>-0.031125</td>\n",
       "      <td>0.174924</td>\n",
       "      <td>-0.409225</td>\n",
       "      <td>1.000000</td>\n",
       "      <td>-0.282633</td>\n",
       "      <td>0.075223</td>\n",
       "      <td>-0.090803</td>\n",
       "    </tr>\n",
       "    <tr>\n",
       "      <th>und18</th>\n",
       "      <td>-0.667244</td>\n",
       "      <td>-0.166435</td>\n",
       "      <td>-0.584707</td>\n",
       "      <td>0.422030</td>\n",
       "      <td>-0.510471</td>\n",
       "      <td>0.349540</td>\n",
       "      <td>-0.282633</td>\n",
       "      <td>1.000000</td>\n",
       "      <td>0.478561</td>\n",
       "      <td>-0.304627</td>\n",
       "    </tr>\n",
       "    <tr>\n",
       "      <th>highschol</th>\n",
       "      <td>-0.575064</td>\n",
       "      <td>-0.348920</td>\n",
       "      <td>-0.595648</td>\n",
       "      <td>0.610071</td>\n",
       "      <td>-0.503530</td>\n",
       "      <td>0.163000</td>\n",
       "      <td>0.075223</td>\n",
       "      <td>0.478561</td>\n",
       "      <td>1.000000</td>\n",
       "      <td>-0.170341</td>\n",
       "    </tr>\n",
       "    <tr>\n",
       "      <th>old65</th>\n",
       "      <td>0.252973</td>\n",
       "      <td>0.443010</td>\n",
       "      <td>0.316897</td>\n",
       "      <td>-0.350514</td>\n",
       "      <td>0.254343</td>\n",
       "      <td>-0.039428</td>\n",
       "      <td>-0.090803</td>\n",
       "      <td>-0.304627</td>\n",
       "      <td>-0.170341</td>\n",
       "      <td>1.000000</td>\n",
       "    </tr>\n",
       "  </tbody>\n",
       "</table>\n",
       "</div>"
      ],
      "text/plain": [
       "           bachelor  treecover    income    perHis  nonHispan     black  \\\n",
       "bachelor   1.000000   0.195763  0.873035 -0.331214   0.654567 -0.510129   \n",
       "treecover  0.195763   1.000000  0.216593 -0.229432   0.226108 -0.078759   \n",
       "income     0.873035   0.216593  1.000000 -0.306151   0.665329 -0.494144   \n",
       "perHis    -0.331214  -0.229432 -0.306151  1.000000  -0.217932 -0.252085   \n",
       "nonHispan  0.654567   0.226108  0.665329 -0.217932   1.000000 -0.851676   \n",
       "black     -0.510129  -0.078759 -0.494144 -0.252085  -0.851676  1.000000   \n",
       "asian      0.236205  -0.111479  0.100490 -0.031125   0.174924 -0.409225   \n",
       "und18     -0.667244  -0.166435 -0.584707  0.422030  -0.510471  0.349540   \n",
       "highschol -0.575064  -0.348920 -0.595648  0.610071  -0.503530  0.163000   \n",
       "old65      0.252973   0.443010  0.316897 -0.350514   0.254343 -0.039428   \n",
       "\n",
       "              asian     und18  highschol     old65  \n",
       "bachelor   0.236205 -0.667244  -0.575064  0.252973  \n",
       "treecover -0.111479 -0.166435  -0.348920  0.443010  \n",
       "income     0.100490 -0.584707  -0.595648  0.316897  \n",
       "perHis    -0.031125  0.422030   0.610071 -0.350514  \n",
       "nonHispan  0.174924 -0.510471  -0.503530  0.254343  \n",
       "black     -0.409225  0.349540   0.163000 -0.039428  \n",
       "asian      1.000000 -0.282633   0.075223 -0.090803  \n",
       "und18     -0.282633  1.000000   0.478561 -0.304627  \n",
       "highschol  0.075223  0.478561   1.000000 -0.170341  \n",
       "old65     -0.090803 -0.304627  -0.170341  1.000000  "
      ]
     },
     "execution_count": 52,
     "metadata": {},
     "output_type": "execute_result"
    }
   ],
   "source": [
    "vegdf_valid2 = vegdf_valid.drop(columns=['ALAND', 'AWATER'])\n",
    "vegdf_valid2.corr()\n"
   ]
  },
  {
   "cell_type": "code",
   "execution_count": null,
   "id": "5ee4e6e7-a26f-4ce4-9974-65e49e14ae1a",
   "metadata": {},
   "outputs": [],
   "source": []
  },
  {
   "cell_type": "markdown",
   "id": "a1f621b8-3557-4228-a413-6ff9e234e62e",
   "metadata": {},
   "source": [
    "### Regression analysis of the vegetation canopy cover and different socio-economic variables. "
   ]
  },
  {
   "cell_type": "code",
   "execution_count": 53,
   "id": "99f6e0c9-b2f0-4a3b-b59f-a153b2c62edf",
   "metadata": {},
   "outputs": [],
   "source": [
    "# !pip install statsmodels"
   ]
  },
  {
   "cell_type": "code",
   "execution_count": 54,
   "id": "dc15bcbd-0207-48a0-85a5-27038e5196b0",
   "metadata": {
    "scrolled": true
   },
   "outputs": [
    {
     "data": {
      "text/html": [
       "<table class=\"simpletable\">\n",
       "<caption>OLS Regression Results</caption>\n",
       "<tr>\n",
       "  <th>Dep. Variable:</th>        <td>treecover</td>    <th>  R-squared:         </th> <td>   0.302</td>\n",
       "</tr>\n",
       "<tr>\n",
       "  <th>Model:</th>                   <td>OLS</td>       <th>  Adj. R-squared:    </th> <td>   0.292</td>\n",
       "</tr>\n",
       "<tr>\n",
       "  <th>Method:</th>             <td>Least Squares</td>  <th>  F-statistic:       </th> <td>   31.99</td>\n",
       "</tr>\n",
       "<tr>\n",
       "  <th>Date:</th>             <td>Wed, 28 Feb 2024</td> <th>  Prob (F-statistic):</th> <td>4.39e-27</td>\n",
       "</tr>\n",
       "<tr>\n",
       "  <th>Time:</th>                 <td>21:10:14</td>     <th>  Log-Likelihood:    </th> <td> -1374.1</td>\n",
       "</tr>\n",
       "<tr>\n",
       "  <th>No. Observations:</th>      <td>   376</td>      <th>  AIC:               </th> <td>   2760.</td>\n",
       "</tr>\n",
       "<tr>\n",
       "  <th>Df Residuals:</th>          <td>   370</td>      <th>  BIC:               </th> <td>   2784.</td>\n",
       "</tr>\n",
       "<tr>\n",
       "  <th>Df Model:</th>              <td>     5</td>      <th>                     </th>     <td> </td>   \n",
       "</tr>\n",
       "<tr>\n",
       "  <th>Covariance Type:</th>      <td>nonrobust</td>    <th>                     </th>     <td> </td>   \n",
       "</tr>\n",
       "</table>\n",
       "<table class=\"simpletable\">\n",
       "<tr>\n",
       "      <td></td>         <th>coef</th>     <th>std err</th>      <th>t</th>      <th>P>|t|</th>  <th>[0.025</th>    <th>0.975]</th>  \n",
       "</tr>\n",
       "<tr>\n",
       "  <th>Intercept</th> <td>   13.2905</td> <td>    2.785</td> <td>    4.773</td> <td> 0.000</td> <td>    7.815</td> <td>   18.766</td>\n",
       "</tr>\n",
       "<tr>\n",
       "  <th>income</th>    <td>   -0.0842</td> <td>    0.040</td> <td>   -2.108</td> <td> 0.036</td> <td>   -0.163</td> <td>   -0.006</td>\n",
       "</tr>\n",
       "<tr>\n",
       "  <th>perHis</th>    <td>   10.5769</td> <td>    3.944</td> <td>    2.682</td> <td> 0.008</td> <td>    2.822</td> <td>   18.332</td>\n",
       "</tr>\n",
       "<tr>\n",
       "  <th>old65</th>     <td>   72.6285</td> <td>    7.450</td> <td>    9.749</td> <td> 0.000</td> <td>   57.979</td> <td>   87.278</td>\n",
       "</tr>\n",
       "<tr>\n",
       "  <th>highschol</th> <td>  -86.2785</td> <td>   12.215</td> <td>   -7.063</td> <td> 0.000</td> <td> -110.299</td> <td>  -62.258</td>\n",
       "</tr>\n",
       "<tr>\n",
       "  <th>und18</th>     <td>    8.2174</td> <td>    7.674</td> <td>    1.071</td> <td> 0.285</td> <td>   -6.873</td> <td>   23.307</td>\n",
       "</tr>\n",
       "</table>\n",
       "<table class=\"simpletable\">\n",
       "<tr>\n",
       "  <th>Omnibus:</th>       <td>84.488</td> <th>  Durbin-Watson:     </th> <td>   1.410</td>\n",
       "</tr>\n",
       "<tr>\n",
       "  <th>Prob(Omnibus):</th> <td> 0.000</td> <th>  Jarque-Bera (JB):  </th> <td> 172.774</td>\n",
       "</tr>\n",
       "<tr>\n",
       "  <th>Skew:</th>          <td> 1.181</td> <th>  Prob(JB):          </th> <td>3.04e-38</td>\n",
       "</tr>\n",
       "<tr>\n",
       "  <th>Kurtosis:</th>      <td> 5.335</td> <th>  Cond. No.          </th> <td>    868.</td>\n",
       "</tr>\n",
       "</table><br/><br/>Notes:<br/>[1] Standard Errors assume that the covariance matrix of the errors is correctly specified."
      ],
      "text/plain": [
       "<IPython.core.display.HTML object>"
      ]
     },
     "execution_count": 54,
     "metadata": {},
     "output_type": "execute_result"
    }
   ],
   "source": [
    "import statsmodels.api as sm\n",
    "from statsmodels.formula.api import ols\n",
    "from IPython.display import HTML, display\n",
    "\n",
    "\n",
    "# again, invoke statsmodel's formula API using the below syntax\n",
    "veg_model = ols(\"\"\"treecover ~ income \n",
    "                            + perHis\n",
    "                            + old65\n",
    "                            + highschol\n",
    "                            + und18\"\"\", data=vegdf_valid2).fit()\n",
    "\n",
    "# summarize our model\n",
    "veg_model_summary = veg_model.summary()\n",
    "HTML(veg_model_summary.as_html())"
   ]
  },
  {
   "cell_type": "code",
   "execution_count": null,
   "id": "90aaecd9-73d2-4bb7-a927-bee780456f72",
   "metadata": {},
   "outputs": [],
   "source": []
  }
 ],
 "metadata": {
  "kernelspec": {
   "display_name": "Python 3 (ipykernel)",
   "language": "python",
   "name": "python3"
  },
  "language_info": {
   "codemirror_mode": {
    "name": "ipython",
    "version": 3
   },
   "file_extension": ".py",
   "mimetype": "text/x-python",
   "name": "python",
   "nbconvert_exporter": "python",
   "pygments_lexer": "ipython3",
   "version": "3.10.8"
  }
 },
 "nbformat": 4,
 "nbformat_minor": 5
}
